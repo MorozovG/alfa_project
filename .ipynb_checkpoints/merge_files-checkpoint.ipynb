{
 "cells": [
  {
   "cell_type": "code",
   "execution_count": 2,
   "metadata": {
    "collapsed": true
   },
   "outputs": [],
   "source": [
    "import pandas as pd\n",
    "import numpy as np"
   ]
  },
  {
   "cell_type": "code",
   "execution_count": 7,
   "metadata": {
    "collapsed": false
   },
   "outputs": [],
   "source": [
    "alfa = pd.read_csv('data/alfa_reviews.csv')"
   ]
  },
  {
   "cell_type": "code",
   "execution_count": 8,
   "metadata": {
    "collapsed": false
   },
   "outputs": [
    {
     "data": {
      "text/html": [
       "<div>\n",
       "<table border=\"1\" class=\"dataframe\">\n",
       "  <thead>\n",
       "    <tr style=\"text-align: right;\">\n",
       "      <th></th>\n",
       "      <th>bank_name</th>\n",
       "      <th>review_datetime</th>\n",
       "      <th>review_header</th>\n",
       "      <th>review_author_url</th>\n",
       "      <th>bank_answer_check</th>\n",
       "      <th>review_text</th>\n",
       "      <th>bank_answer_text</th>\n",
       "      <th>review_rating</th>\n",
       "      <th>review_author_name</th>\n",
       "      <th>review_url</th>\n",
       "      <th>bank_answer_datetime</th>\n",
       "    </tr>\n",
       "  </thead>\n",
       "  <tbody>\n",
       "    <tr>\n",
       "      <th>0</th>\n",
       "      <td>alfabank</td>\n",
       "      <td>2017-04-08 13:37:10</td>\n",
       "      <td>Звонит агенство Сенсител</td>\n",
       "      <td>/profile/?UID=1070418</td>\n",
       "      <td>False</td>\n",
       "      <td>\\n\\t\\t\\t\\t\\t\\t\\tМне ежедневно на протяжении ме...</td>\n",
       "      <td>NaN</td>\n",
       "      <td>1</td>\n",
       "      <td>Елена=22</td>\n",
       "      <td>/services/responses/bank/response/10061124/</td>\n",
       "      <td>empty</td>\n",
       "    </tr>\n",
       "    <tr>\n",
       "      <th>1</th>\n",
       "      <td>alfabank</td>\n",
       "      <td>2017-04-08 11:27:42</td>\n",
       "      <td>Пропали деньги с карты</td>\n",
       "      <td>/profile/?UID=1066922</td>\n",
       "      <td>False</td>\n",
       "      <td>\\n\\t\\t\\t\\t\\t\\t\\tПо моему вопросу так никто и н...</td>\n",
       "      <td>NaN</td>\n",
       "      <td>3</td>\n",
       "      <td>Doctorgrig</td>\n",
       "      <td>/services/responses/bank/response/10061095/</td>\n",
       "      <td>empty</td>\n",
       "    </tr>\n",
       "    <tr>\n",
       "      <th>2</th>\n",
       "      <td>alfabank</td>\n",
       "      <td>2017-04-08 09:22:24</td>\n",
       "      <td>Отрицательный отзыв!</td>\n",
       "      <td>/profile/?UID=1017259</td>\n",
       "      <td>False</td>\n",
       "      <td>\\n\\t\\t\\t\\t\\t\\t\\tЗдравствуйте! Я не являюсь кли...</td>\n",
       "      <td>NaN</td>\n",
       "      <td>1</td>\n",
       "      <td>Евгения я</td>\n",
       "      <td>/services/responses/bank/response/10061076/</td>\n",
       "      <td>empty</td>\n",
       "    </tr>\n",
       "    <tr>\n",
       "      <th>3</th>\n",
       "      <td>alfabank</td>\n",
       "      <td>2017-04-07 21:10:20</td>\n",
       "      <td>Просьба к банку</td>\n",
       "      <td>/profile/?UID=1070258</td>\n",
       "      <td>False</td>\n",
       "      <td>\\n\\t\\t\\t\\t\\t\\t\\tУважаемый мною Банк, доброго в...</td>\n",
       "      <td>NaN</td>\n",
       "      <td>1</td>\n",
       "      <td>dasha123.s</td>\n",
       "      <td>/services/responses/bank/response/10061039/</td>\n",
       "      <td>empty</td>\n",
       "    </tr>\n",
       "    <tr>\n",
       "      <th>4</th>\n",
       "      <td>alfabank</td>\n",
       "      <td>2017-04-07 18:03:24</td>\n",
       "      <td>хорошее обслуживание</td>\n",
       "      <td>/profile/?UID=552943</td>\n",
       "      <td>True</td>\n",
       "      <td>\\n\\t\\t\\t\\t\\t\\t\\tВозникла проблема с тем, что п...</td>\n",
       "      <td>Уважаемый Клиент, мы рады, что Ваш вопрос реши...</td>\n",
       "      <td>5</td>\n",
       "      <td>yaroslavorloff</td>\n",
       "      <td>/services/responses/bank/response/10061006/</td>\n",
       "      <td>2017-04-07 18:15:34</td>\n",
       "    </tr>\n",
       "  </tbody>\n",
       "</table>\n",
       "</div>"
      ],
      "text/plain": [
       "  bank_name      review_datetime             review_header  \\\n",
       "0  alfabank  2017-04-08 13:37:10  Звонит агенство Сенсител   \n",
       "1  alfabank  2017-04-08 11:27:42    Пропали деньги с карты   \n",
       "2  alfabank  2017-04-08 09:22:24      Отрицательный отзыв!   \n",
       "3  alfabank  2017-04-07 21:10:20           Просьба к банку   \n",
       "4  alfabank  2017-04-07 18:03:24      хорошее обслуживание   \n",
       "\n",
       "       review_author_url bank_answer_check  \\\n",
       "0  /profile/?UID=1070418             False   \n",
       "1  /profile/?UID=1066922             False   \n",
       "2  /profile/?UID=1017259             False   \n",
       "3  /profile/?UID=1070258             False   \n",
       "4   /profile/?UID=552943              True   \n",
       "\n",
       "                                         review_text  \\\n",
       "0  \\n\\t\\t\\t\\t\\t\\t\\tМне ежедневно на протяжении ме...   \n",
       "1  \\n\\t\\t\\t\\t\\t\\t\\tПо моему вопросу так никто и н...   \n",
       "2  \\n\\t\\t\\t\\t\\t\\t\\tЗдравствуйте! Я не являюсь кли...   \n",
       "3  \\n\\t\\t\\t\\t\\t\\t\\tУважаемый мною Банк, доброго в...   \n",
       "4  \\n\\t\\t\\t\\t\\t\\t\\tВозникла проблема с тем, что п...   \n",
       "\n",
       "                                    bank_answer_text review_rating  \\\n",
       "0                                                NaN             1   \n",
       "1                                                NaN             3   \n",
       "2                                                NaN             1   \n",
       "3                                                NaN             1   \n",
       "4  Уважаемый Клиент, мы рады, что Ваш вопрос реши...             5   \n",
       "\n",
       "  review_author_name                                   review_url  \\\n",
       "0           Елена=22  /services/responses/bank/response/10061124/   \n",
       "1         Doctorgrig  /services/responses/bank/response/10061095/   \n",
       "2          Евгения я  /services/responses/bank/response/10061076/   \n",
       "3         dasha123.s  /services/responses/bank/response/10061039/   \n",
       "4     yaroslavorloff  /services/responses/bank/response/10061006/   \n",
       "\n",
       "  bank_answer_datetime  \n",
       "0                empty  \n",
       "1                empty  \n",
       "2                empty  \n",
       "3                empty  \n",
       "4  2017-04-07 18:15:34  "
      ]
     },
     "execution_count": 8,
     "metadata": {},
     "output_type": "execute_result"
    }
   ],
   "source": [
    "alfa.head()"
   ]
  },
  {
   "cell_type": "code",
   "execution_count": 11,
   "metadata": {
    "collapsed": false
   },
   "outputs": [
    {
     "data": {
      "text/plain": [
       "Index([u'bank_name', u'review_datetime', u'review_header',\n",
       "       u'review_author_url', u'bank_answer_check', u'review_text',\n",
       "       u'bank_answer_text', u'review_rating', u'review_author_name',\n",
       "       u'review_url', u'bank_answer_datetime'],\n",
       "      dtype='object')"
      ]
     },
     "execution_count": 11,
     "metadata": {},
     "output_type": "execute_result"
    }
   ],
   "source": [
    "alfa.columns"
   ]
  },
  {
   "cell_type": "code",
   "execution_count": 37,
   "metadata": {
    "collapsed": false
   },
   "outputs": [
    {
     "data": {
      "text/plain": [
       "(20554, 13)"
      ]
     },
     "execution_count": 37,
     "metadata": {},
     "output_type": "execute_result"
    }
   ],
   "source": [
    "alfa.shape"
   ]
  },
  {
   "cell_type": "code",
   "execution_count": 20,
   "metadata": {
    "collapsed": false
   },
   "outputs": [],
   "source": [
    "alfa['review_author_id'] = alfa['review_author_url'].apply(lambda x: x.split('=')[1])"
   ]
  },
  {
   "cell_type": "code",
   "execution_count": 26,
   "metadata": {
    "collapsed": false
   },
   "outputs": [],
   "source": [
    "alfa['review_id'] = alfa['review_url'].apply(lambda x: x.split('/')[-2])"
   ]
  },
  {
   "cell_type": "code",
   "execution_count": 43,
   "metadata": {
    "collapsed": false
   },
   "outputs": [
    {
     "data": {
      "text/plain": [
       "20554"
      ]
     },
     "execution_count": 43,
     "metadata": {},
     "output_type": "execute_result"
    }
   ],
   "source": [
    "len(alfa.review_id.unique())"
   ]
  },
  {
   "cell_type": "code",
   "execution_count": 27,
   "metadata": {
    "collapsed": true
   },
   "outputs": [],
   "source": [
    "alfa_cat = pd.read_csv('data/alfa_category.csv')"
   ]
  },
  {
   "cell_type": "code",
   "execution_count": 32,
   "metadata": {
    "collapsed": false
   },
   "outputs": [
    {
     "data": {
      "text/plain": [
       "(12033, 4)"
      ]
     },
     "execution_count": 32,
     "metadata": {},
     "output_type": "execute_result"
    }
   ],
   "source": [
    "alfa_cat.shape"
   ]
  },
  {
   "cell_type": "code",
   "execution_count": 29,
   "metadata": {
    "collapsed": false
   },
   "outputs": [
    {
     "data": {
      "text/html": [
       "<div>\n",
       "<table border=\"1\" class=\"dataframe\">\n",
       "  <thead>\n",
       "    <tr style=\"text-align: right;\">\n",
       "      <th></th>\n",
       "      <th>review_category</th>\n",
       "      <th>bank_name</th>\n",
       "      <th>review_url</th>\n",
       "    </tr>\n",
       "  </thead>\n",
       "  <tbody>\n",
       "    <tr>\n",
       "      <th>0</th>\n",
       "      <td>leasing</td>\n",
       "      <td>alfabank</td>\n",
       "      <td>/services/responses/bank/response/10030268/</td>\n",
       "    </tr>\n",
       "    <tr>\n",
       "      <th>1</th>\n",
       "      <td>leasing</td>\n",
       "      <td>alfabank</td>\n",
       "      <td>/services/responses/bank/response/8896088/</td>\n",
       "    </tr>\n",
       "    <tr>\n",
       "      <th>2</th>\n",
       "      <td>leasing</td>\n",
       "      <td>alfabank</td>\n",
       "      <td>/services/responses/bank/response/8841298/</td>\n",
       "    </tr>\n",
       "    <tr>\n",
       "      <th>3</th>\n",
       "      <td>leasing</td>\n",
       "      <td>alfabank</td>\n",
       "      <td>/services/responses/bank/response/8510554/</td>\n",
       "    </tr>\n",
       "    <tr>\n",
       "      <th>4</th>\n",
       "      <td>leasing</td>\n",
       "      <td>alfabank</td>\n",
       "      <td>/services/responses/bank/response/8393553/</td>\n",
       "    </tr>\n",
       "  </tbody>\n",
       "</table>\n",
       "</div>"
      ],
      "text/plain": [
       "  review_category bank_name                                   review_url\n",
       "0         leasing  alfabank  /services/responses/bank/response/10030268/\n",
       "1         leasing  alfabank   /services/responses/bank/response/8896088/\n",
       "2         leasing  alfabank   /services/responses/bank/response/8841298/\n",
       "3         leasing  alfabank   /services/responses/bank/response/8510554/\n",
       "4         leasing  alfabank   /services/responses/bank/response/8393553/"
      ]
     },
     "execution_count": 29,
     "metadata": {},
     "output_type": "execute_result"
    }
   ],
   "source": [
    "alfa_cat.head()"
   ]
  },
  {
   "cell_type": "code",
   "execution_count": 30,
   "metadata": {
    "collapsed": true
   },
   "outputs": [],
   "source": [
    "alfa_cat['review_id'] = alfa_cat['review_url'].apply(lambda x: x.split('/')[-2])"
   ]
  },
  {
   "cell_type": "code",
   "execution_count": 44,
   "metadata": {
    "collapsed": false
   },
   "outputs": [
    {
     "data": {
      "text/plain": [
       "10124"
      ]
     },
     "execution_count": 44,
     "metadata": {},
     "output_type": "execute_result"
    }
   ],
   "source": [
    "len(alfa_cat.review_id.unique())"
   ]
  },
  {
   "cell_type": "code",
   "execution_count": 31,
   "metadata": {
    "collapsed": false
   },
   "outputs": [
    {
     "data": {
      "text/html": [
       "<div>\n",
       "<table border=\"1\" class=\"dataframe\">\n",
       "  <thead>\n",
       "    <tr style=\"text-align: right;\">\n",
       "      <th></th>\n",
       "      <th>review_category</th>\n",
       "      <th>bank_name</th>\n",
       "      <th>review_url</th>\n",
       "      <th>review_id</th>\n",
       "    </tr>\n",
       "  </thead>\n",
       "  <tbody>\n",
       "    <tr>\n",
       "      <th>0</th>\n",
       "      <td>leasing</td>\n",
       "      <td>alfabank</td>\n",
       "      <td>/services/responses/bank/response/10030268/</td>\n",
       "      <td>10030268</td>\n",
       "    </tr>\n",
       "    <tr>\n",
       "      <th>1</th>\n",
       "      <td>leasing</td>\n",
       "      <td>alfabank</td>\n",
       "      <td>/services/responses/bank/response/8896088/</td>\n",
       "      <td>8896088</td>\n",
       "    </tr>\n",
       "    <tr>\n",
       "      <th>2</th>\n",
       "      <td>leasing</td>\n",
       "      <td>alfabank</td>\n",
       "      <td>/services/responses/bank/response/8841298/</td>\n",
       "      <td>8841298</td>\n",
       "    </tr>\n",
       "    <tr>\n",
       "      <th>3</th>\n",
       "      <td>leasing</td>\n",
       "      <td>alfabank</td>\n",
       "      <td>/services/responses/bank/response/8510554/</td>\n",
       "      <td>8510554</td>\n",
       "    </tr>\n",
       "    <tr>\n",
       "      <th>4</th>\n",
       "      <td>leasing</td>\n",
       "      <td>alfabank</td>\n",
       "      <td>/services/responses/bank/response/8393553/</td>\n",
       "      <td>8393553</td>\n",
       "    </tr>\n",
       "  </tbody>\n",
       "</table>\n",
       "</div>"
      ],
      "text/plain": [
       "  review_category bank_name                                   review_url  \\\n",
       "0         leasing  alfabank  /services/responses/bank/response/10030268/   \n",
       "1         leasing  alfabank   /services/responses/bank/response/8896088/   \n",
       "2         leasing  alfabank   /services/responses/bank/response/8841298/   \n",
       "3         leasing  alfabank   /services/responses/bank/response/8510554/   \n",
       "4         leasing  alfabank   /services/responses/bank/response/8393553/   \n",
       "\n",
       "  review_id  \n",
       "0  10030268  \n",
       "1   8896088  \n",
       "2   8841298  \n",
       "3   8510554  \n",
       "4   8393553  "
      ]
     },
     "execution_count": 31,
     "metadata": {},
     "output_type": "execute_result"
    }
   ],
   "source": [
    "alfa_cat.head()"
   ]
  },
  {
   "cell_type": "code",
   "execution_count": 65,
   "metadata": {
    "collapsed": false
   },
   "outputs": [],
   "source": [
    "alfa_cat_union = (alfa_cat[['review_category', 'review_id']].groupby(['review_id'])['review_category'].\n",
    "                  apply(lambda x: list(x)).reset_index())"
   ]
  },
  {
   "cell_type": "code",
   "execution_count": 136,
   "metadata": {
    "collapsed": false
   },
   "outputs": [
    {
     "data": {
      "text/html": [
       "<div>\n",
       "<table border=\"1\" class=\"dataframe\">\n",
       "  <thead>\n",
       "    <tr style=\"text-align: right;\">\n",
       "      <th></th>\n",
       "      <th>review_id</th>\n",
       "      <th>review_category</th>\n",
       "    </tr>\n",
       "  </thead>\n",
       "  <tbody>\n",
       "    <tr>\n",
       "      <th>0</th>\n",
       "      <td>10000022</td>\n",
       "      <td>[creditcards]</td>\n",
       "    </tr>\n",
       "    <tr>\n",
       "      <th>1</th>\n",
       "      <td>10000025</td>\n",
       "      <td>[businesscredits, corporate]</td>\n",
       "    </tr>\n",
       "    <tr>\n",
       "      <th>2</th>\n",
       "      <td>10000056</td>\n",
       "      <td>[corporate]</td>\n",
       "    </tr>\n",
       "    <tr>\n",
       "      <th>3</th>\n",
       "      <td>10000089</td>\n",
       "      <td>[creditcards]</td>\n",
       "    </tr>\n",
       "    <tr>\n",
       "      <th>4</th>\n",
       "      <td>10000119</td>\n",
       "      <td>[corporate]</td>\n",
       "    </tr>\n",
       "  </tbody>\n",
       "</table>\n",
       "</div>"
      ],
      "text/plain": [
       "  review_id               review_category\n",
       "0  10000022                 [creditcards]\n",
       "1  10000025  [businesscredits, corporate]\n",
       "2  10000056                   [corporate]\n",
       "3  10000089                 [creditcards]\n",
       "4  10000119                   [corporate]"
      ]
     },
     "execution_count": 136,
     "metadata": {},
     "output_type": "execute_result"
    }
   ],
   "source": [
    "alfa_cat_union.head()"
   ]
  },
  {
   "cell_type": "code",
   "execution_count": 68,
   "metadata": {
    "collapsed": true
   },
   "outputs": [],
   "source": [
    "from sklearn.preprocessing import MultiLabelBinarizer"
   ]
  },
  {
   "cell_type": "code",
   "execution_count": 72,
   "metadata": {
    "collapsed": false
   },
   "outputs": [],
   "source": [
    "mlb = MultiLabelBinarizer()\n",
    "alfa_cat_bin = mlb.fit_transform(alfa_cat_union.review_category)"
   ]
  },
  {
   "cell_type": "code",
   "execution_count": null,
   "metadata": {
    "collapsed": true
   },
   "outputs": [],
   "source": []
  },
  {
   "cell_type": "code",
   "execution_count": 74,
   "metadata": {
    "collapsed": false
   },
   "outputs": [
    {
     "data": {
      "text/plain": [
       "array(['autocredits', 'businesscredits', 'businessdeposits', 'corporate',\n",
       "       'creditcards', 'credits', 'debitcards', 'deposits', 'hypothec',\n",
       "       'leasing', 'remote', 'restructing'], dtype=object)"
      ]
     },
     "execution_count": 74,
     "metadata": {},
     "output_type": "execute_result"
    }
   ],
   "source": [
    "mlb.classes_"
   ]
  },
  {
   "cell_type": "code",
   "execution_count": 83,
   "metadata": {
    "collapsed": false
   },
   "outputs": [],
   "source": [
    "alfa_cat_fin = (pd.DataFrame(alfa_cat_bin, columns=mlb.classes_).assign(review_id=alfa_cat_union.review_id))"
   ]
  },
  {
   "cell_type": "code",
   "execution_count": 84,
   "metadata": {
    "collapsed": false
   },
   "outputs": [
    {
     "data": {
      "text/html": [
       "<div>\n",
       "<table border=\"1\" class=\"dataframe\">\n",
       "  <thead>\n",
       "    <tr style=\"text-align: right;\">\n",
       "      <th></th>\n",
       "      <th>autocredits</th>\n",
       "      <th>businesscredits</th>\n",
       "      <th>businessdeposits</th>\n",
       "      <th>corporate</th>\n",
       "      <th>creditcards</th>\n",
       "      <th>credits</th>\n",
       "      <th>debitcards</th>\n",
       "      <th>deposits</th>\n",
       "      <th>hypothec</th>\n",
       "      <th>leasing</th>\n",
       "      <th>remote</th>\n",
       "      <th>restructing</th>\n",
       "      <th>review_id</th>\n",
       "    </tr>\n",
       "  </thead>\n",
       "  <tbody>\n",
       "    <tr>\n",
       "      <th>0</th>\n",
       "      <td>0</td>\n",
       "      <td>0</td>\n",
       "      <td>0</td>\n",
       "      <td>0</td>\n",
       "      <td>1</td>\n",
       "      <td>0</td>\n",
       "      <td>0</td>\n",
       "      <td>0</td>\n",
       "      <td>0</td>\n",
       "      <td>0</td>\n",
       "      <td>0</td>\n",
       "      <td>0</td>\n",
       "      <td>10000022</td>\n",
       "    </tr>\n",
       "    <tr>\n",
       "      <th>1</th>\n",
       "      <td>0</td>\n",
       "      <td>1</td>\n",
       "      <td>0</td>\n",
       "      <td>1</td>\n",
       "      <td>0</td>\n",
       "      <td>0</td>\n",
       "      <td>0</td>\n",
       "      <td>0</td>\n",
       "      <td>0</td>\n",
       "      <td>0</td>\n",
       "      <td>0</td>\n",
       "      <td>0</td>\n",
       "      <td>10000025</td>\n",
       "    </tr>\n",
       "    <tr>\n",
       "      <th>2</th>\n",
       "      <td>0</td>\n",
       "      <td>0</td>\n",
       "      <td>0</td>\n",
       "      <td>1</td>\n",
       "      <td>0</td>\n",
       "      <td>0</td>\n",
       "      <td>0</td>\n",
       "      <td>0</td>\n",
       "      <td>0</td>\n",
       "      <td>0</td>\n",
       "      <td>0</td>\n",
       "      <td>0</td>\n",
       "      <td>10000056</td>\n",
       "    </tr>\n",
       "    <tr>\n",
       "      <th>3</th>\n",
       "      <td>0</td>\n",
       "      <td>0</td>\n",
       "      <td>0</td>\n",
       "      <td>0</td>\n",
       "      <td>1</td>\n",
       "      <td>0</td>\n",
       "      <td>0</td>\n",
       "      <td>0</td>\n",
       "      <td>0</td>\n",
       "      <td>0</td>\n",
       "      <td>0</td>\n",
       "      <td>0</td>\n",
       "      <td>10000089</td>\n",
       "    </tr>\n",
       "    <tr>\n",
       "      <th>4</th>\n",
       "      <td>0</td>\n",
       "      <td>0</td>\n",
       "      <td>0</td>\n",
       "      <td>1</td>\n",
       "      <td>0</td>\n",
       "      <td>0</td>\n",
       "      <td>0</td>\n",
       "      <td>0</td>\n",
       "      <td>0</td>\n",
       "      <td>0</td>\n",
       "      <td>0</td>\n",
       "      <td>0</td>\n",
       "      <td>10000119</td>\n",
       "    </tr>\n",
       "  </tbody>\n",
       "</table>\n",
       "</div>"
      ],
      "text/plain": [
       "   autocredits  businesscredits  businessdeposits  corporate  creditcards  \\\n",
       "0            0                0                 0          0            1   \n",
       "1            0                1                 0          1            0   \n",
       "2            0                0                 0          1            0   \n",
       "3            0                0                 0          0            1   \n",
       "4            0                0                 0          1            0   \n",
       "\n",
       "   credits  debitcards  deposits  hypothec  leasing  remote  restructing  \\\n",
       "0        0           0         0         0        0       0            0   \n",
       "1        0           0         0         0        0       0            0   \n",
       "2        0           0         0         0        0       0            0   \n",
       "3        0           0         0         0        0       0            0   \n",
       "4        0           0         0         0        0       0            0   \n",
       "\n",
       "  review_id  \n",
       "0  10000022  \n",
       "1  10000025  \n",
       "2  10000056  \n",
       "3  10000089  \n",
       "4  10000119  "
      ]
     },
     "execution_count": 84,
     "metadata": {},
     "output_type": "execute_result"
    }
   ],
   "source": [
    "alfa_cat_fin.head()"
   ]
  },
  {
   "cell_type": "code",
   "execution_count": 85,
   "metadata": {
    "collapsed": true
   },
   "outputs": [],
   "source": [
    "alfa_merge = pd.merge(alfa, alfa_cat_fin, how='left', on='review_id', sort=False)"
   ]
  },
  {
   "cell_type": "code",
   "execution_count": 86,
   "metadata": {
    "collapsed": false
   },
   "outputs": [
    {
     "data": {
      "text/plain": [
       "(20554, 25)"
      ]
     },
     "execution_count": 86,
     "metadata": {},
     "output_type": "execute_result"
    }
   ],
   "source": [
    "alfa_merge.shape"
   ]
  },
  {
   "cell_type": "code",
   "execution_count": 97,
   "metadata": {
    "collapsed": false
   },
   "outputs": [
    {
     "data": {
      "text/html": [
       "<div>\n",
       "<table border=\"1\" class=\"dataframe\">\n",
       "  <thead>\n",
       "    <tr style=\"text-align: right;\">\n",
       "      <th></th>\n",
       "      <th>bank_name</th>\n",
       "      <th>review_datetime</th>\n",
       "      <th>review_header</th>\n",
       "      <th>review_author_url</th>\n",
       "      <th>bank_answer_check</th>\n",
       "      <th>review_text</th>\n",
       "      <th>bank_answer_text</th>\n",
       "      <th>review_rating</th>\n",
       "      <th>review_author_name</th>\n",
       "      <th>review_url</th>\n",
       "      <th>...</th>\n",
       "      <th>businessdeposits</th>\n",
       "      <th>corporate</th>\n",
       "      <th>creditcards</th>\n",
       "      <th>credits</th>\n",
       "      <th>debitcards</th>\n",
       "      <th>deposits</th>\n",
       "      <th>hypothec</th>\n",
       "      <th>leasing</th>\n",
       "      <th>remote</th>\n",
       "      <th>restructing</th>\n",
       "    </tr>\n",
       "  </thead>\n",
       "  <tbody>\n",
       "    <tr>\n",
       "      <th>20549</th>\n",
       "      <td>alfabank</td>\n",
       "      <td>2005-04-08 14:14:00</td>\n",
       "      <td>Плохой банк (филиал в Томске)</td>\n",
       "      <td>/profile/?UID=</td>\n",
       "      <td>False</td>\n",
       "      <td>\\n\\t\\t\\t\\t\\t\\t\\tВ Томске пришли закрывать счет...</td>\n",
       "      <td>NaN</td>\n",
       "      <td>1</td>\n",
       "      <td>grek</td>\n",
       "      <td>/services/responses/bank/response/34999/</td>\n",
       "      <td>...</td>\n",
       "      <td>NaN</td>\n",
       "      <td>NaN</td>\n",
       "      <td>NaN</td>\n",
       "      <td>NaN</td>\n",
       "      <td>NaN</td>\n",
       "      <td>NaN</td>\n",
       "      <td>NaN</td>\n",
       "      <td>NaN</td>\n",
       "      <td>NaN</td>\n",
       "      <td>NaN</td>\n",
       "    </tr>\n",
       "    <tr>\n",
       "      <th>20550</th>\n",
       "      <td>alfabank</td>\n",
       "      <td>2005-04-07 15:56:00</td>\n",
       "      <td>Ужасный банк</td>\n",
       "      <td>/profile/?UID=</td>\n",
       "      <td>False</td>\n",
       "      <td>\\n\\t\\t\\t\\t\\t\\t\\t1.   Деньги берут за все - за ...</td>\n",
       "      <td>NaN</td>\n",
       "      <td>1</td>\n",
       "      <td>Анна</td>\n",
       "      <td>/services/responses/bank/response/34640/</td>\n",
       "      <td>...</td>\n",
       "      <td>NaN</td>\n",
       "      <td>NaN</td>\n",
       "      <td>NaN</td>\n",
       "      <td>NaN</td>\n",
       "      <td>NaN</td>\n",
       "      <td>NaN</td>\n",
       "      <td>NaN</td>\n",
       "      <td>NaN</td>\n",
       "      <td>NaN</td>\n",
       "      <td>NaN</td>\n",
       "    </tr>\n",
       "    <tr>\n",
       "      <th>20551</th>\n",
       "      <td>alfabank</td>\n",
       "      <td>2005-04-06 23:02:00</td>\n",
       "      <td>То что жадный, - это точно!</td>\n",
       "      <td>/profile/?UID=</td>\n",
       "      <td>False</td>\n",
       "      <td>\\n\\t\\t\\t\\t\\t\\t\\tЧем мне нравится Альфа, все бы...</td>\n",
       "      <td>NaN</td>\n",
       "      <td>3</td>\n",
       "      <td>Мария</td>\n",
       "      <td>/services/responses/bank/response/34334/</td>\n",
       "      <td>...</td>\n",
       "      <td>NaN</td>\n",
       "      <td>NaN</td>\n",
       "      <td>NaN</td>\n",
       "      <td>NaN</td>\n",
       "      <td>NaN</td>\n",
       "      <td>NaN</td>\n",
       "      <td>NaN</td>\n",
       "      <td>NaN</td>\n",
       "      <td>NaN</td>\n",
       "      <td>NaN</td>\n",
       "    </tr>\n",
       "    <tr>\n",
       "      <th>20552</th>\n",
       "      <td>alfabank</td>\n",
       "      <td>2005-04-06 15:20:00</td>\n",
       "      <td>Плохой Банк</td>\n",
       "      <td>/profile/?UID=</td>\n",
       "      <td>False</td>\n",
       "      <td>\\n\\t\\t\\t\\t\\t\\t\\tБанк плохой, проценты уменьшил...</td>\n",
       "      <td>NaN</td>\n",
       "      <td>1</td>\n",
       "      <td>Екатерина</td>\n",
       "      <td>/services/responses/bank/response/34230/</td>\n",
       "      <td>...</td>\n",
       "      <td>NaN</td>\n",
       "      <td>NaN</td>\n",
       "      <td>NaN</td>\n",
       "      <td>NaN</td>\n",
       "      <td>NaN</td>\n",
       "      <td>NaN</td>\n",
       "      <td>NaN</td>\n",
       "      <td>NaN</td>\n",
       "      <td>NaN</td>\n",
       "      <td>NaN</td>\n",
       "    </tr>\n",
       "    <tr>\n",
       "      <th>20553</th>\n",
       "      <td>alfabank</td>\n",
       "      <td>2005-04-06 12:59:00</td>\n",
       "      <td>Собираюсь уходить от них...</td>\n",
       "      <td>/profile/?UID=</td>\n",
       "      <td>False</td>\n",
       "      <td>\\n\\t\\t\\t\\t\\t\\t\\tСначала (с открытием АБЭ), был...</td>\n",
       "      <td>NaN</td>\n",
       "      <td>1</td>\n",
       "      <td>Сергей</td>\n",
       "      <td>/services/responses/bank/response/34188/</td>\n",
       "      <td>...</td>\n",
       "      <td>NaN</td>\n",
       "      <td>NaN</td>\n",
       "      <td>NaN</td>\n",
       "      <td>NaN</td>\n",
       "      <td>NaN</td>\n",
       "      <td>NaN</td>\n",
       "      <td>NaN</td>\n",
       "      <td>NaN</td>\n",
       "      <td>NaN</td>\n",
       "      <td>NaN</td>\n",
       "    </tr>\n",
       "  </tbody>\n",
       "</table>\n",
       "<p>5 rows × 25 columns</p>\n",
       "</div>"
      ],
      "text/plain": [
       "      bank_name      review_datetime                  review_header  \\\n",
       "20549  alfabank  2005-04-08 14:14:00  Плохой банк (филиал в Томске)   \n",
       "20550  alfabank  2005-04-07 15:56:00                   Ужасный банк   \n",
       "20551  alfabank  2005-04-06 23:02:00    То что жадный, - это точно!   \n",
       "20552  alfabank  2005-04-06 15:20:00                    Плохой Банк   \n",
       "20553  alfabank  2005-04-06 12:59:00    Собираюсь уходить от них...   \n",
       "\n",
       "      review_author_url bank_answer_check  \\\n",
       "20549    /profile/?UID=             False   \n",
       "20550    /profile/?UID=             False   \n",
       "20551    /profile/?UID=             False   \n",
       "20552    /profile/?UID=             False   \n",
       "20553    /profile/?UID=             False   \n",
       "\n",
       "                                             review_text bank_answer_text  \\\n",
       "20549  \\n\\t\\t\\t\\t\\t\\t\\tВ Томске пришли закрывать счет...              NaN   \n",
       "20550  \\n\\t\\t\\t\\t\\t\\t\\t1.   Деньги берут за все - за ...              NaN   \n",
       "20551  \\n\\t\\t\\t\\t\\t\\t\\tЧем мне нравится Альфа, все бы...              NaN   \n",
       "20552  \\n\\t\\t\\t\\t\\t\\t\\tБанк плохой, проценты уменьшил...              NaN   \n",
       "20553  \\n\\t\\t\\t\\t\\t\\t\\tСначала (с открытием АБЭ), был...              NaN   \n",
       "\n",
       "      review_rating review_author_name  \\\n",
       "20549             1               grek   \n",
       "20550             1               Анна   \n",
       "20551             3              Мария   \n",
       "20552             1          Екатерина   \n",
       "20553             1             Сергей   \n",
       "\n",
       "                                     review_url     ...      businessdeposits  \\\n",
       "20549  /services/responses/bank/response/34999/     ...                   NaN   \n",
       "20550  /services/responses/bank/response/34640/     ...                   NaN   \n",
       "20551  /services/responses/bank/response/34334/     ...                   NaN   \n",
       "20552  /services/responses/bank/response/34230/     ...                   NaN   \n",
       "20553  /services/responses/bank/response/34188/     ...                   NaN   \n",
       "\n",
       "      corporate creditcards  credits  debitcards  deposits  hypothec  leasing  \\\n",
       "20549       NaN         NaN      NaN         NaN       NaN       NaN      NaN   \n",
       "20550       NaN         NaN      NaN         NaN       NaN       NaN      NaN   \n",
       "20551       NaN         NaN      NaN         NaN       NaN       NaN      NaN   \n",
       "20552       NaN         NaN      NaN         NaN       NaN       NaN      NaN   \n",
       "20553       NaN         NaN      NaN         NaN       NaN       NaN      NaN   \n",
       "\n",
       "       remote  restructing  \n",
       "20549     NaN          NaN  \n",
       "20550     NaN          NaN  \n",
       "20551     NaN          NaN  \n",
       "20552     NaN          NaN  \n",
       "20553     NaN          NaN  \n",
       "\n",
       "[5 rows x 25 columns]"
      ]
     },
     "execution_count": 97,
     "metadata": {},
     "output_type": "execute_result"
    }
   ],
   "source": [
    "alfa_merge.tail(5)"
   ]
  },
  {
   "cell_type": "code",
   "execution_count": 90,
   "metadata": {
    "collapsed": false
   },
   "outputs": [
    {
     "data": {
      "text/plain": [
       "Index                   164432\n",
       "bank_name               164432\n",
       "review_datetime         164432\n",
       "review_header           164432\n",
       "review_author_url       164432\n",
       "bank_answer_check        20554\n",
       "review_text             164432\n",
       "bank_answer_text        164432\n",
       "review_rating           164432\n",
       "review_author_name      164432\n",
       "review_url              164432\n",
       "bank_answer_datetime    164432\n",
       "review_author_id        164432\n",
       "review_id               164432\n",
       "autocredits             164432\n",
       "businesscredits         164432\n",
       "businessdeposits        164432\n",
       "corporate               164432\n",
       "creditcards             164432\n",
       "credits                 164432\n",
       "debitcards              164432\n",
       "deposits                164432\n",
       "hypothec                164432\n",
       "leasing                 164432\n",
       "remote                  164432\n",
       "restructing             164432\n",
       "dtype: int64"
      ]
     },
     "execution_count": 90,
     "metadata": {},
     "output_type": "execute_result"
    }
   ],
   "source": [
    "alfa_merge.memory_usage()"
   ]
  },
  {
   "cell_type": "code",
   "execution_count": 91,
   "metadata": {
    "collapsed": false
   },
   "outputs": [
    {
     "data": {
      "text/plain": [
       "bank_name                object\n",
       "review_datetime          object\n",
       "review_header            object\n",
       "review_author_url        object\n",
       "bank_answer_check          bool\n",
       "review_text              object\n",
       "bank_answer_text         object\n",
       "review_rating            object\n",
       "review_author_name       object\n",
       "review_url               object\n",
       "bank_answer_datetime     object\n",
       "review_author_id         object\n",
       "review_id                object\n",
       "autocredits             float64\n",
       "businesscredits         float64\n",
       "businessdeposits        float64\n",
       "corporate               float64\n",
       "creditcards             float64\n",
       "credits                 float64\n",
       "debitcards              float64\n",
       "deposits                float64\n",
       "hypothec                float64\n",
       "leasing                 float64\n",
       "remote                  float64\n",
       "restructing             float64\n",
       "dtype: object"
      ]
     },
     "execution_count": 91,
     "metadata": {},
     "output_type": "execute_result"
    }
   ],
   "source": [
    "alfa_merge.dtypes"
   ]
  },
  {
   "cell_type": "code",
   "execution_count": 92,
   "metadata": {
    "collapsed": false
   },
   "outputs": [
    {
     "data": {
      "text/plain": [
       "4110800"
      ]
     },
     "execution_count": 92,
     "metadata": {},
     "output_type": "execute_result"
    }
   ],
   "source": [
    "alfa_merge.values.nbytes"
   ]
  },
  {
   "cell_type": "code",
   "execution_count": 115,
   "metadata": {
    "collapsed": false
   },
   "outputs": [
    {
     "data": {
      "text/plain": [
       "0    1\n",
       "1    3\n",
       "2    1\n",
       "3    1\n",
       "4    5\n",
       "Name: review_rating, dtype: int64"
      ]
     },
     "execution_count": 115,
     "metadata": {},
     "output_type": "execute_result"
    }
   ],
   "source": [
    "alfa_merge['review_rating'].replace('empty', 0).astype('int')[:5]"
   ]
  },
  {
   "cell_type": "code",
   "execution_count": 138,
   "metadata": {
    "collapsed": false
   },
   "outputs": [
    {
     "data": {
      "text/plain": [
       "bank_name                   0\n",
       "review_datetime             0\n",
       "review_header               0\n",
       "bank_answer_check           0\n",
       "review_text                 0\n",
       "bank_answer_text          349\n",
       "review_rating               0\n",
       "review_author_name          0\n",
       "bank_answer_datetime     1587\n",
       "review_author_id            0\n",
       "review_id                   0\n",
       "autocredits             10430\n",
       "businesscredits         10430\n",
       "businessdeposits        10430\n",
       "corporate               10430\n",
       "creditcards             10430\n",
       "credits                 10430\n",
       "debitcards              10430\n",
       "deposits                10430\n",
       "hypothec                10430\n",
       "leasing                 10430\n",
       "remote                  10430\n",
       "restructing             10430\n",
       "dtype: int64"
      ]
     },
     "execution_count": 138,
     "metadata": {},
     "output_type": "execute_result"
    }
   ],
   "source": [
    "alfa_merge.isnull().sum()"
   ]
  },
  {
   "cell_type": "code",
   "execution_count": 140,
   "metadata": {
    "collapsed": true
   },
   "outputs": [],
   "source": [
    "alfa_merge.to_csv('process_data/alfa_merged.csv')"
   ]
  },
  {
   "cell_type": "code",
   "execution_count": 131,
   "metadata": {
    "collapsed": false
   },
   "outputs": [
    {
     "data": {
      "text/plain": [
       "-349"
      ]
     },
     "execution_count": 131,
     "metadata": {},
     "output_type": "execute_result"
    }
   ],
   "source": [
    "alfa_merge['bank_answer_check'].sum()-20554"
   ]
  },
  {
   "cell_type": "code",
   "execution_count": 130,
   "metadata": {
    "collapsed": false
   },
   "outputs": [
    {
     "data": {
      "text/plain": [
       "19939"
      ]
     },
     "execution_count": 130,
     "metadata": {},
     "output_type": "execute_result"
    }
   ],
   "source": [
    "alfa_merge['bank_answer_check'][:20000].sum()"
   ]
  },
  {
   "cell_type": "code",
   "execution_count": 137,
   "metadata": {
    "collapsed": true
   },
   "outputs": [],
   "source": [
    "del alfa_merge['review_author_url']\n",
    "del alfa_merge['review_url']"
   ]
  },
  {
   "cell_type": "code",
   "execution_count": 144,
   "metadata": {
    "collapsed": true
   },
   "outputs": [],
   "source": [
    "def file_clean_merge(bank_name):\n",
    "    reviews_data = pd.read_csv('data/{}_reviews.csv'.format(bank_name))\n",
    "    reviews_data['review_author_id'] = reviews_data['review_author_url'].apply(lambda x: x.split('=')[1])\n",
    "    reviews_data['review_id'] = reviews_data['review_url'].apply(lambda x: x.split('/')[-2])\n",
    "    category_data = pd.read_csv('data/{}_category.csv'.format(bank_name))\n",
    "    category_data['review_id'] = category_data['review_url'].apply(lambda x: x.split('/')[-2])\n",
    "    category_data = (category_data[['review_category', 'review_id']].groupby(['review_id'])['review_category'].\n",
    "                     apply(lambda x: list(x)).reset_index())\n",
    "    mlb = MultiLabelBinarizer()\n",
    "    category_bin = mlb.fit_transform(category_data.review_category)\n",
    "    category_data = (pd.DataFrame(category_bin, columns=mlb.classes_).assign(review_id=category_data.review_id))\n",
    "    data_merged = pd.merge(reviews_data, category_data, how='left', on='review_id', sort=False)\n",
    "    data_merged['review_rating'].replace('empty', 0, inplace=True)\n",
    "    del data_merged['review_author_url']\n",
    "    del data_merged['review_url']\n",
    "    data_merged.to_csv('process_data/{}_merged.csv'.format(bank_name))"
   ]
  },
  {
   "cell_type": "code",
   "execution_count": 150,
   "metadata": {
    "collapsed": false
   },
   "outputs": [],
   "source": [
    "for bank in ['alfa', 'avangard', 'binbank', 'fk_otkritie', 'raiffeisen', 'sberbank', 'tcs']:\n",
    "    file_clean_merge(bank)"
   ]
  }
 ],
 "metadata": {
  "anaconda-cloud": {},
  "hide_input": false,
  "kernelspec": {
   "display_name": "Python [Root]",
   "language": "python",
   "name": "Python [Root]"
  },
  "language_info": {
   "codemirror_mode": {
    "name": "ipython",
    "version": 2
   },
   "file_extension": ".py",
   "mimetype": "text/x-python",
   "name": "python",
   "nbconvert_exporter": "python",
   "pygments_lexer": "ipython2",
   "version": "2.7.12"
  },
  "toc": {
   "toc_cell": false,
   "toc_number_sections": false,
   "toc_threshold": 6,
   "toc_window_display": false
  }
 },
 "nbformat": 4,
 "nbformat_minor": 0
}
