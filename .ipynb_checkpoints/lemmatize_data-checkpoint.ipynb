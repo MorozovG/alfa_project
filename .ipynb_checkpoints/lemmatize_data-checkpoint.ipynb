{
 "cells": [
  {
   "cell_type": "code",
   "execution_count": 1,
   "metadata": {
    "collapsed": true
   },
   "outputs": [],
   "source": [
    "import pandas as pd\n",
    "import numpy as np"
   ]
  },
  {
   "cell_type": "code",
   "execution_count": 2,
   "metadata": {
    "collapsed": true
   },
   "outputs": [],
   "source": [
    "columns_to_read = ['review_text', 'review_id', 'autocredits', 'businesscredits', 'businessdeposits',\n",
    "                   'corporate', 'creditcards', 'credits', 'debitcards', 'deposits', 'hypothec',\n",
    "                   'leasing', 'remote', 'restructing' ]"
   ]
  },
  {
   "cell_type": "code",
   "execution_count": 3,
   "metadata": {
    "collapsed": false
   },
   "outputs": [],
   "source": [
    "data = pd.read_csv('process_data/alfa_merged.csv', index_col=1, usecols=columns_to_read)"
   ]
  },
  {
   "cell_type": "code",
   "execution_count": 4,
   "metadata": {
    "collapsed": false
   },
   "outputs": [
    {
     "data": {
      "text/html": [
       "<div>\n",
       "<table border=\"1\" class=\"dataframe\">\n",
       "  <thead>\n",
       "    <tr style=\"text-align: right;\">\n",
       "      <th></th>\n",
       "      <th>review_text</th>\n",
       "      <th>autocredits</th>\n",
       "      <th>businesscredits</th>\n",
       "      <th>businessdeposits</th>\n",
       "      <th>corporate</th>\n",
       "      <th>creditcards</th>\n",
       "      <th>credits</th>\n",
       "      <th>debitcards</th>\n",
       "      <th>deposits</th>\n",
       "      <th>hypothec</th>\n",
       "      <th>leasing</th>\n",
       "      <th>remote</th>\n",
       "      <th>restructing</th>\n",
       "    </tr>\n",
       "    <tr>\n",
       "      <th>review_id</th>\n",
       "      <th></th>\n",
       "      <th></th>\n",
       "      <th></th>\n",
       "      <th></th>\n",
       "      <th></th>\n",
       "      <th></th>\n",
       "      <th></th>\n",
       "      <th></th>\n",
       "      <th></th>\n",
       "      <th></th>\n",
       "      <th></th>\n",
       "      <th></th>\n",
       "      <th></th>\n",
       "    </tr>\n",
       "  </thead>\n",
       "  <tbody>\n",
       "    <tr>\n",
       "      <th>10061124</th>\n",
       "      <td>\\n\\t\\t\\t\\t\\t\\t\\tМне ежедневно на протяжении ме...</td>\n",
       "      <td>0.0</td>\n",
       "      <td>0.0</td>\n",
       "      <td>0.0</td>\n",
       "      <td>0.0</td>\n",
       "      <td>1.0</td>\n",
       "      <td>1.0</td>\n",
       "      <td>0.0</td>\n",
       "      <td>0.0</td>\n",
       "      <td>0.0</td>\n",
       "      <td>0.0</td>\n",
       "      <td>1.0</td>\n",
       "      <td>0.0</td>\n",
       "    </tr>\n",
       "    <tr>\n",
       "      <th>10061095</th>\n",
       "      <td>\\n\\t\\t\\t\\t\\t\\t\\tПо моему вопросу так никто и н...</td>\n",
       "      <td>0.0</td>\n",
       "      <td>0.0</td>\n",
       "      <td>0.0</td>\n",
       "      <td>0.0</td>\n",
       "      <td>0.0</td>\n",
       "      <td>0.0</td>\n",
       "      <td>1.0</td>\n",
       "      <td>0.0</td>\n",
       "      <td>0.0</td>\n",
       "      <td>0.0</td>\n",
       "      <td>0.0</td>\n",
       "      <td>0.0</td>\n",
       "    </tr>\n",
       "    <tr>\n",
       "      <th>10061076</th>\n",
       "      <td>\\n\\t\\t\\t\\t\\t\\t\\tЗдравствуйте! Я не являюсь кли...</td>\n",
       "      <td>NaN</td>\n",
       "      <td>NaN</td>\n",
       "      <td>NaN</td>\n",
       "      <td>NaN</td>\n",
       "      <td>NaN</td>\n",
       "      <td>NaN</td>\n",
       "      <td>NaN</td>\n",
       "      <td>NaN</td>\n",
       "      <td>NaN</td>\n",
       "      <td>NaN</td>\n",
       "      <td>NaN</td>\n",
       "      <td>NaN</td>\n",
       "    </tr>\n",
       "    <tr>\n",
       "      <th>10061039</th>\n",
       "      <td>\\n\\t\\t\\t\\t\\t\\t\\tУважаемый мною Банк, доброго в...</td>\n",
       "      <td>0.0</td>\n",
       "      <td>0.0</td>\n",
       "      <td>0.0</td>\n",
       "      <td>0.0</td>\n",
       "      <td>0.0</td>\n",
       "      <td>1.0</td>\n",
       "      <td>0.0</td>\n",
       "      <td>0.0</td>\n",
       "      <td>0.0</td>\n",
       "      <td>0.0</td>\n",
       "      <td>0.0</td>\n",
       "      <td>0.0</td>\n",
       "    </tr>\n",
       "    <tr>\n",
       "      <th>10061006</th>\n",
       "      <td>\\n\\t\\t\\t\\t\\t\\t\\tВозникла проблема с тем, что п...</td>\n",
       "      <td>0.0</td>\n",
       "      <td>0.0</td>\n",
       "      <td>0.0</td>\n",
       "      <td>0.0</td>\n",
       "      <td>1.0</td>\n",
       "      <td>0.0</td>\n",
       "      <td>0.0</td>\n",
       "      <td>0.0</td>\n",
       "      <td>0.0</td>\n",
       "      <td>0.0</td>\n",
       "      <td>0.0</td>\n",
       "      <td>0.0</td>\n",
       "    </tr>\n",
       "  </tbody>\n",
       "</table>\n",
       "</div>"
      ],
      "text/plain": [
       "                                                 review_text  autocredits  \\\n",
       "review_id                                                                   \n",
       "10061124   \\n\\t\\t\\t\\t\\t\\t\\tМне ежедневно на протяжении ме...          0.0   \n",
       "10061095   \\n\\t\\t\\t\\t\\t\\t\\tПо моему вопросу так никто и н...          0.0   \n",
       "10061076   \\n\\t\\t\\t\\t\\t\\t\\tЗдравствуйте! Я не являюсь кли...          NaN   \n",
       "10061039   \\n\\t\\t\\t\\t\\t\\t\\tУважаемый мною Банк, доброго в...          0.0   \n",
       "10061006   \\n\\t\\t\\t\\t\\t\\t\\tВозникла проблема с тем, что п...          0.0   \n",
       "\n",
       "           businesscredits  businessdeposits  corporate  creditcards  credits  \\\n",
       "review_id                                                                       \n",
       "10061124               0.0               0.0        0.0          1.0      1.0   \n",
       "10061095               0.0               0.0        0.0          0.0      0.0   \n",
       "10061076               NaN               NaN        NaN          NaN      NaN   \n",
       "10061039               0.0               0.0        0.0          0.0      1.0   \n",
       "10061006               0.0               0.0        0.0          1.0      0.0   \n",
       "\n",
       "           debitcards  deposits  hypothec  leasing  remote  restructing  \n",
       "review_id                                                                \n",
       "10061124          0.0       0.0       0.0      0.0     1.0          0.0  \n",
       "10061095          1.0       0.0       0.0      0.0     0.0          0.0  \n",
       "10061076          NaN       NaN       NaN      NaN     NaN          NaN  \n",
       "10061039          0.0       0.0       0.0      0.0     0.0          0.0  \n",
       "10061006          0.0       0.0       0.0      0.0     0.0          0.0  "
      ]
     },
     "execution_count": 4,
     "metadata": {},
     "output_type": "execute_result"
    }
   ],
   "source": [
    "data.head()"
   ]
  },
  {
   "cell_type": "code",
   "execution_count": 5,
   "metadata": {
    "collapsed": false
   },
   "outputs": [
    {
     "data": {
      "text/plain": [
       "(20554, 13)"
      ]
     },
     "execution_count": 5,
     "metadata": {},
     "output_type": "execute_result"
    }
   ],
   "source": [
    "data.shape"
   ]
  },
  {
   "cell_type": "code",
   "execution_count": 17,
   "metadata": {
    "collapsed": false
   },
   "outputs": [
    {
     "name": "stdout",
     "output_type": "stream",
     "text": [
      "<class 'pandas.core.frame.DataFrame'>\n",
      "Int64Index: 20554 entries, 10061124 to 34188\n",
      "Data columns (total 13 columns):\n",
      "review_text         20554 non-null object\n",
      "autocredits         10124 non-null float64\n",
      "businesscredits     10124 non-null float64\n",
      "businessdeposits    10124 non-null float64\n",
      "corporate           10124 non-null float64\n",
      "creditcards         10124 non-null float64\n",
      "credits             10124 non-null float64\n",
      "debitcards          10124 non-null float64\n",
      "deposits            10124 non-null float64\n",
      "hypothec            10124 non-null float64\n",
      "leasing             10124 non-null float64\n",
      "remote              10124 non-null float64\n",
      "restructing         10124 non-null float64\n",
      "dtypes: float64(12), object(1)\n",
      "memory usage: 2.2+ MB\n"
     ]
    }
   ],
   "source": [
    "data.info()"
   ]
  },
  {
   "cell_type": "code",
   "execution_count": 18,
   "metadata": {
    "collapsed": false
   },
   "outputs": [
    {
     "data": {
      "text/plain": [
       "Index([u'review_text', u'autocredits', u'businesscredits', u'businessdeposits',\n",
       "       u'corporate', u'creditcards', u'credits', u'debitcards', u'deposits',\n",
       "       u'hypothec', u'leasing', u'remote', u'restructing'],\n",
       "      dtype='object')"
      ]
     },
     "execution_count": 18,
     "metadata": {},
     "output_type": "execute_result"
    }
   ],
   "source": [
    "data.columns"
   ]
  },
  {
   "cell_type": "code",
   "execution_count": 31,
   "metadata": {
    "collapsed": false
   },
   "outputs": [
    {
     "name": "stdout",
     "output_type": "stream",
     "text": [
      "\n"
     ]
    }
   ],
   "source": [
    "print data.review_text[10060982].strip()"
   ]
  },
  {
   "cell_type": "code",
   "execution_count": 6,
   "metadata": {
    "collapsed": false
   },
   "outputs": [],
   "source": [
    "data['review_text'] = data['review_text'].str.strip()"
   ]
  },
  {
   "cell_type": "code",
   "execution_count": 7,
   "metadata": {
    "collapsed": true
   },
   "outputs": [],
   "source": [
    "data = data.drop(data[data['review_text'] == ''].index)"
   ]
  },
  {
   "cell_type": "code",
   "execution_count": 8,
   "metadata": {
    "collapsed": false
   },
   "outputs": [
    {
     "data": {
      "text/plain": [
       "(20552, 13)"
      ]
     },
     "execution_count": 8,
     "metadata": {},
     "output_type": "execute_result"
    }
   ],
   "source": [
    "data.shape"
   ]
  },
  {
   "cell_type": "code",
   "execution_count": 9,
   "metadata": {
    "collapsed": false
   },
   "outputs": [
    {
     "data": {
      "text/plain": [
       "review_id\n",
       "10061124    Мне ежедневно на протяжении месяца звонит аген...\n",
       "10061095    По моему вопросу так никто и не откликнулся. А...\n",
       "10061076    Здравствуйте! Я не являюсь клиентом этого банк...\n",
       "10061039    Уважаемый мною Банк, доброго вечера) Хочу увед...\n",
       "10061006    Возникла проблема с тем, что приставы заблокир...\n",
       "Name: review_text, dtype: object"
      ]
     },
     "execution_count": 9,
     "metadata": {},
     "output_type": "execute_result"
    }
   ],
   "source": [
    "data.review_text.head()"
   ]
  },
  {
   "cell_type": "code",
   "execution_count": 2,
   "metadata": {
    "collapsed": false
   },
   "outputs": [],
   "source": [
    "from pymystem3 import Mystem"
   ]
  },
  {
   "cell_type": "code",
   "execution_count": 30,
   "metadata": {
    "collapsed": false
   },
   "outputs": [],
   "source": [
    "stem = Mystem()"
   ]
  },
  {
   "cell_type": "code",
   "execution_count": 12,
   "metadata": {
    "collapsed": false
   },
   "outputs": [
    {
     "name": "stdout",
     "output_type": "stream",
     "text": [
      "я ежедневно на протяжение месяц звонить агенство сенсител по повод задолженность альфа банка. я кредит в он не иметь и никогда не иметь. звонить требовать деньги, или отбирать квартира.  писать смс, что выезжать ко я. у я сотовый телефон знать ограниченный число человек, никто он вы не указывать для контакт. ваш банка разрешение на обработка мой данный я тоже не давать.звонить агенство сенсител от альфа банк по 20 раз в день.  вообще я причем??? просить убирать мой телефон из ваш контакт и никогда я не звонить. номер с который я совершаться звонок постоянно повторяться +7(903) 520-66-51, +7(903) 520-66-74, +7(903) 520-66-46, +7(3852)55-52-40.\n",
      "\n"
     ]
    }
   ],
   "source": [
    "print ''.join(stem.lemmatize(data.review_text[10061124]))"
   ]
  },
  {
   "cell_type": "code",
   "execution_count": 32,
   "metadata": {
    "collapsed": false
   },
   "outputs": [
    {
     "name": "stdout",
     "output_type": "stream",
     "text": [
      "я\n",
      " \n",
      "ежедневно\n",
      " \n",
      "на\n",
      " \n",
      "протяжение\n",
      " \n",
      "месяц\n",
      " \n"
     ]
    }
   ],
   "source": [
    "for lemma in stem.lemmatize(data.review_text[10061124])[:10]:\n",
    "    print lemma\n",
    "    "
   ]
  },
  {
   "cell_type": "code",
   "execution_count": 13,
   "metadata": {
    "collapsed": true
   },
   "outputs": [],
   "source": [
    "import json"
   ]
  },
  {
   "cell_type": "code",
   "execution_count": 33,
   "metadata": {
    "collapsed": false
   },
   "outputs": [
    {
     "name": "stdout",
     "output_type": "stream",
     "text": [
      "[{\"text\": \"Мне\", \"analysis\": [{\"lex\": \"я\", \"gr\": \"SPRO,ед,1-л=(пр|дат)\"}]}, {\"text\": \" \"}, {\"text\": \"ежедневно\", \"analysis\": [{\"lex\": \"ежедневно\", \"gr\": \"ADV=\"}]}, {\"text\": \" \"}, {\"text\": \"на\", \"analysis\": [{\"lex\": \"на\", \"gr\": \"PR=\"}]}, {\"text\": \" \"}, {\"text\": \"протяжении\", \"analysis\": [{\"lex\": \"протяжение\", \"gr\": \"S,сред,неод=пр,ед\"}]}, {\"text\": \" \"}, {\"text\": \"месяца\", \"analysis\": [{\"lex\": \"месяц\", \"gr\": \"S,муж,неод=род,ед\"}]}, {\"text\": \" \"}]\n"
     ]
    }
   ],
   "source": [
    "print json.dumps(stem.analyze(data.review_text[10061124])[:10], ensure_ascii=False, encoding='utf8')"
   ]
  },
  {
   "cell_type": "code",
   "execution_count": 34,
   "metadata": {
    "collapsed": true
   },
   "outputs": [],
   "source": [
    "stem = Mystem()"
   ]
  },
  {
   "cell_type": "code",
   "execution_count": 35,
   "metadata": {
    "collapsed": false
   },
   "outputs": [],
   "source": [
    "stem._mystemargs.append('--eng-gr')"
   ]
  },
  {
   "cell_type": "code",
   "execution_count": 36,
   "metadata": {
    "collapsed": false
   },
   "outputs": [
    {
     "name": "stdout",
     "output_type": "stream",
     "text": [
      "[{\"text\": \"Мне\", \"analysis\": [{\"lex\": \"я\", \"gr\": \"SPRO,sg,1p=(abl|dat)\"}]}, {\"text\": \" \"}, {\"text\": \"ежедневно\", \"analysis\": [{\"lex\": \"ежедневно\", \"gr\": \"ADV=\"}]}, {\"text\": \" \"}, {\"text\": \"на\", \"analysis\": [{\"lex\": \"на\", \"gr\": \"PR=\"}]}, {\"text\": \" \"}, {\"text\": \"протяжении\", \"analysis\": [{\"lex\": \"протяжение\", \"gr\": \"S,n,inan=abl,sg\"}]}, {\"text\": \" \"}, {\"text\": \"месяца\", \"analysis\": [{\"lex\": \"месяц\", \"gr\": \"S,m,inan=gen,sg\"}]}, {\"text\": \" \"}]\n"
     ]
    }
   ],
   "source": [
    "print (json.dumps(stem.analyze(data.review_text[10061124])[:10], ensure_ascii=False, encoding='utf8'))"
   ]
  },
  {
   "cell_type": "code",
   "execution_count": 39,
   "metadata": {
    "collapsed": true
   },
   "outputs": [],
   "source": [
    "stem = Mystem()"
   ]
  },
  {
   "cell_type": "code",
   "execution_count": 41,
   "metadata": {
    "collapsed": false
   },
   "outputs": [],
   "source": [
    "data['review_text_lemma'] = data['review_text'].apply(lambda x: ''.join(stem.lemmatize(x)))"
   ]
  },
  {
   "cell_type": "code",
   "execution_count": 43,
   "metadata": {
    "collapsed": false
   },
   "outputs": [],
   "source": [
    "data.to_csv('process_data/alfa_lemma.csv')"
   ]
  },
  {
   "cell_type": "code",
   "execution_count": 50,
   "metadata": {
    "collapsed": false
   },
   "outputs": [
    {
     "data": {
      "text/plain": [
       "review_id\n",
       "10061124    я ежедневно на протяжение месяц звонить агенст...\n",
       "10061095    по мой вопрос так никто и не откликаться. альф...\n",
       "10061076    здравствовать! я не являться клиент этот банк,...\n",
       "10061039    уважаемый я банк, добрый вечер) хотеть уведомл...\n",
       "10061006    возникать проблема с то, что пристав заблокиро...\n",
       "Name: review_text_lemma, dtype: object"
      ]
     },
     "execution_count": 50,
     "metadata": {},
     "output_type": "execute_result"
    }
   ],
   "source": [
    "data.review_text_lemma[:5]"
   ]
  },
  {
   "cell_type": "code",
   "execution_count": 45,
   "metadata": {
    "collapsed": false
   },
   "outputs": [
    {
     "name": "stdout",
     "output_type": "stream",
     "text": [
      "–\n"
     ]
    }
   ],
   "source": [
    "print u'\\u2013'"
   ]
  },
  {
   "cell_type": "code",
   "execution_count": 25,
   "metadata": {
    "collapsed": true
   },
   "outputs": [],
   "source": [
    "def lemmatize_text_data(bank_name):\n",
    "    data = pd.read_csv('process_data/{}_merged.csv'.format(bank_name), index_col=0)\n",
    "    data['review_text'] = data['review_text'].str.strip()\n",
    "    data = data.drop(data[data['review_text'] == ''].index)\n",
    "    data['bank_answer_text'] = data['bank_answer_text'].fillna(\"\")\n",
    "    #stem = Mystem()\n",
    "    for column in ['review_text', 'review_header', 'bank_answer_text']:\n",
    "        data['{}_lemm'.format(column)] = data[column].apply(lambda x: ''.join(stem.lemmatize(x)))\n",
    "    data.to_csv('process_data/{}_lemmatize.csv'.format(bank_name))"
   ]
  },
  {
   "cell_type": "code",
   "execution_count": 40,
   "metadata": {
    "collapsed": true
   },
   "outputs": [],
   "source": [
    "for bank in ['alfa', 'avangard', 'binbank', 'fk_otkritie', 'raiffeisen', 'sberbank', 'tcs']:\n",
    "    lemmatize_text_data(bank)"
   ]
  },
  {
   "cell_type": "code",
   "execution_count": null,
   "metadata": {
    "collapsed": true
   },
   "outputs": [],
   "source": []
  },
  {
   "cell_type": "code",
   "execution_count": null,
   "metadata": {
    "collapsed": true
   },
   "outputs": [],
   "source": []
  },
  {
   "cell_type": "code",
   "execution_count": null,
   "metadata": {
    "collapsed": true
   },
   "outputs": [],
   "source": []
  },
  {
   "cell_type": "code",
   "execution_count": null,
   "metadata": {
    "collapsed": true
   },
   "outputs": [],
   "source": []
  },
  {
   "cell_type": "code",
   "execution_count": null,
   "metadata": {
    "collapsed": true
   },
   "outputs": [],
   "source": []
  },
  {
   "cell_type": "code",
   "execution_count": 46,
   "metadata": {
    "collapsed": true
   },
   "outputs": [],
   "source": [
    "from sklearn.feature_extraction.text import TfidfVectorizer"
   ]
  },
  {
   "cell_type": "code",
   "execution_count": 47,
   "metadata": {
    "collapsed": true
   },
   "outputs": [],
   "source": [
    "tfidf_vectorizer = TfidfVectorizer()"
   ]
  },
  {
   "cell_type": "code",
   "execution_count": 51,
   "metadata": {
    "collapsed": false
   },
   "outputs": [],
   "source": [
    "tfidf = tfidf_vectorizer.fit_transform(data.review_text_lemma[:5])"
   ]
  },
  {
   "cell_type": "code",
   "execution_count": 42,
   "metadata": {
    "collapsed": false
   },
   "outputs": [
    {
     "name": "stdout",
     "output_type": "stream",
     "text": [
      "Мне ежедневно на протяжении месяца звонит агенство Сенсител по поводу задолженности Альфа банку. Я кредитов в нем не имею и никогда не имела. Звонят требуют деньги, или отберут квартиру.  Пишут смс, что выезжают ко мне. У меня сотовый телефон знают ограниченное число людей, никто его вам не указывал для контактов. Вашему банку разрешение на обработку моих данных я тоже не давала.Звонит агенство Сенсител от Альфа банка по 20 раз в день.  Вообще я причем??? Прошу убрать мой телефон из ваших контактов и никогда мне не звонить. Номера с которых мне совершаются звонки постоянно повторяются +7(903) 520-66-51, +7(903) 520-66-74, +7(903) 520-66-46, +7(3852)55-52-40.\n"
     ]
    }
   ],
   "source": [
    "print data.review_text[0]"
   ]
  },
  {
   "cell_type": "code",
   "execution_count": 52,
   "metadata": {
    "collapsed": false
   },
   "outputs": [
    {
     "data": {
      "text/plain": [
       "<5x331 sparse matrix of type '<type 'numpy.float64'>'\n",
       "\twith 434 stored elements in Compressed Sparse Row format>"
      ]
     },
     "execution_count": 52,
     "metadata": {},
     "output_type": "execute_result"
    }
   ],
   "source": [
    "tfidf"
   ]
  },
  {
   "cell_type": "code",
   "execution_count": 56,
   "metadata": {
    "collapsed": false
   },
   "outputs": [
    {
     "name": "stdout",
     "output_type": "stream",
     "text": [
      "кстати\n",
      "квартира\n",
      "обработка\n",
      "карман\n",
      "проблема\n",
      "ко\n",
      "странный\n",
      "уважаемый\n",
      "надо\n",
      "спрашивать\n",
      "совершеннолетняя\n",
      "узнавать\n",
      "кредит\n",
      "уважение\n",
      "где\n",
      "3852\n",
      "хотя\n",
      "вносить\n",
      "согласие\n",
      "последний\n",
      "не\n",
      "больница\n",
      "откликаться\n",
      "на\n",
      "прокуратура\n",
      "фссп\n",
      "но\n",
      "ни\n",
      "отделение\n",
      "курс\n",
      "банка\n",
      "судебный\n",
      "настоящий\n",
      "чей\n",
      "руководство\n",
      "отбирать\n",
      "специалист\n",
      "никогда\n",
      "520\n",
      "сотрудник\n",
      "человек\n",
      "уважать\n",
      "указывать\n",
      "точно\n",
      "друг\n",
      "куча\n",
      "директор\n",
      "кто\n",
      "неудобство\n",
      "плакать\n",
      "деньги\n",
      "ездить\n",
      "подтверждать\n",
      "погашение\n",
      "успевать\n",
      "задавать\n",
      "быстро\n",
      "альфа\n",
      "статья\n",
      "приходиться\n",
      "информация\n",
      "благодарный\n",
      "здравствовать\n",
      "06\n",
      "04\n",
      "05\n",
      "минимальный\n",
      "08\n",
      "много\n",
      "назад\n",
      "неправильно\n",
      "ямской\n",
      "спасибо\n",
      "смс\n",
      "перевод\n",
      "привлечение\n",
      "вообще\n",
      "утро\n",
      "так\n",
      "возможно\n",
      "903\n",
      "некоторый\n",
      "она\n",
      "30\n",
      "они\n",
      "контакт\n",
      "ответственный\n",
      "знать\n",
      "что\n",
      "порядок\n",
      "договор\n",
      "тверская\n",
      "постоянно\n",
      "благодарность\n",
      "обстоятельство\n",
      "далеко\n",
      "подавать\n",
      "отзыв\n",
      "реально\n",
      "отчет\n",
      "ук\n",
      "обращаться\n",
      "предлагать\n",
      "уж\n",
      "иметь\n",
      "номер\n",
      "компания\n",
      "уже\n",
      "пользование\n",
      "заполнять\n",
      "агенство\n",
      "оседать\n",
      "сколько\n",
      "месяц\n",
      "40\n",
      "разводить\n",
      "родственник\n",
      "зависеть\n",
      "рука\n",
      "коллега\n",
      "волноваться\n",
      "минута\n",
      "приемная\n",
      "время\n",
      "сегодня\n",
      "телефонный\n",
      "разглашение\n",
      "также\n",
      "год\n",
      "муж\n",
      "услуга\n",
      "выдача\n",
      "сипягина\n",
      "вклад\n",
      "хотеться\n",
      "повод\n",
      "необходимо\n",
      "имя\n",
      "лишний\n",
      "повторяться\n",
      "ссылка\n",
      "перечисляться\n",
      "свой\n",
      "александр\n",
      "караться\n",
      "по\n",
      "понедельник\n",
      "сенсител\n",
      "заявление\n",
      "недавно\n",
      "заблокировать\n",
      "это\n",
      "интересно\n",
      "сотовый\n",
      "нужный\n",
      "разговор\n",
      "руководитель\n",
      "слишком\n",
      "наверное\n",
      "счет\n",
      "отказывать\n",
      "закрывать\n",
      "вечер\n",
      "угрожать\n",
      "предупреждать\n",
      "когда\n",
      "мочь\n",
      "возникать\n",
      "разблокироваться\n",
      "держать\n",
      "единственный\n",
      "карта\n",
      "да\n",
      "сделать\n",
      "отменять\n",
      "решать\n",
      "26\n",
      "27\n",
      "20\n",
      "давно\n",
      "любой\n",
      "декретный\n",
      "проходить\n",
      "очень\n",
      "2017\n",
      "или\n",
      "протяжение\n",
      "становиться\n",
      "ребенок\n",
      "работать\n",
      "потрясение\n",
      "поверять\n",
      "137рф\n",
      "билайн\n",
      "ограниченный\n",
      "выезжать\n",
      "взять\n",
      "стечение\n",
      "вы\n",
      "реструктуризация\n",
      "какой\n",
      "55\n",
      "суббота\n",
      "игнор\n",
      "51\n",
      "53\n",
      "52\n",
      "весь\n",
      "заинтересовываться\n",
      "то\n",
      "сентинелла\n",
      "же\n",
      "число\n",
      "вопрос\n",
      "66\n",
      "звонить\n",
      "наконец\n",
      "тоже\n",
      "предупреждение\n",
      "надежда\n",
      "приходить\n",
      "начинать\n",
      "из\n",
      "полный\n",
      "потом\n",
      "почему\n",
      "страховка\n",
      "марта\n",
      "два\n",
      "выполнять\n",
      "предоставлять\n",
      "ли\n",
      "пристав\n",
      "мой\n",
      "день\n",
      "разрешение\n",
      "блокировка\n",
      "хотеть\n",
      "телефон\n",
      "раз\n",
      "подчиненный\n",
      "нервный\n",
      "их\n",
      "третий\n",
      "звонок\n",
      "все\n",
      "уведомлять\n",
      "период\n",
      "для\n",
      "рвение\n",
      "генеральный\n",
      "он\n",
      "об\n",
      "совершаться\n",
      "возможность\n",
      "бы\n",
      "отпуск\n",
      "причем\n",
      "данный\n",
      "даже\n",
      "данные\n",
      "ее\n",
      "закон\n",
      "записываться\n",
      "никто\n",
      "помощь\n",
      "контролировать\n",
      "донимать\n",
      "требовать\n",
      "кредитный\n",
      "машина\n",
      "навязывать\n",
      "после\n",
      "задолженность\n",
      "прекращаться\n",
      "запугивать\n",
      "10\n",
      "15\n",
      "14\n",
      "16\n",
      "совет\n",
      "убирать\n",
      "сообщать\n",
      "суд\n",
      "от\n",
      "поступать\n",
      "просить\n",
      "без\n",
      "банк\n",
      "час\n",
      "кроме\n",
      "клиент\n",
      "давать\n",
      "который\n",
      "такой\n",
      "запоминать\n",
      "до\n",
      "46\n",
      "другой\n",
      "42\n",
      "выражать\n",
      "писать\n",
      "пользоваться\n",
      "профессионально\n",
      "позвонить\n",
      "добрый\n",
      "ваш\n",
      "платеж\n",
      "персональный\n",
      "со\n",
      "вставать\n",
      "работа\n",
      "зайти\n",
      "орган\n",
      "74\n",
      "быть\n",
      "за\n",
      "чужой\n",
      "бумажка\n",
      "если\n",
      "как\n",
      "вот\n",
      "находиться\n",
      "дочь\n",
      "новый\n",
      "лицо\n",
      "являться\n",
      "этот\n",
      "ежедневно\n",
      "регламент\n",
      "основание\n"
     ]
    }
   ],
   "source": [
    "\n",
    "for key in tfidf_vectorizer.vocabulary_:\n",
    "    print key"
   ]
  },
  {
   "cell_type": "code",
   "execution_count": 58,
   "metadata": {
    "collapsed": false
   },
   "outputs": [],
   "source": [
    "from stop_words import get_stop_words"
   ]
  },
  {
   "cell_type": "code",
   "execution_count": 59,
   "metadata": {
    "collapsed": true
   },
   "outputs": [],
   "source": [
    "stop_words = get_stop_words('russian')"
   ]
  },
  {
   "cell_type": "code",
   "execution_count": 60,
   "metadata": {
    "collapsed": false
   },
   "outputs": [
    {
     "data": {
      "text/plain": [
       "[u'\\u0430',\n",
       " u'\\u0432',\n",
       " u'\\u0433',\n",
       " u'\\u0435',\n",
       " u'\\u0436',\n",
       " u'\\u0438',\n",
       " u'\\u043a',\n",
       " u'\\u043c',\n",
       " u'\\u043e',\n",
       " u'\\u0441',\n",
       " u'\\u0442',\n",
       " u'\\u0443',\n",
       " u'\\u044f',\n",
       " u'\\u0431\\u044b',\n",
       " u'\\u0432\\u043e',\n",
       " u'\\u0432\\u044b',\n",
       " u'\\u0434\\u0430',\n",
       " u'\\u0434\\u043e',\n",
       " u'\\u0435\\u0435',\n",
       " u'\\u0435\\u0439',\n",
       " u'\\u0435\\u044e',\n",
       " u'\\u0435\\u0451',\n",
       " u'\\u0436\\u0435',\n",
       " u'\\u0437\\u0430',\n",
       " u'\\u0438\\u0437',\n",
       " u'\\u0438\\u043c',\n",
       " u'\\u0438\\u0445',\n",
       " u'\\u043b\\u0438',\n",
       " u'\\u043c\\u044b',\n",
       " u'\\u043d\\u0430',\n",
       " u'\\u043d\\u0435',\n",
       " u'\\u043d\\u0438',\n",
       " u'\\u043d\\u043e',\n",
       " u'\\u043d\\u0443',\n",
       " u'\\u043d\\u0445',\n",
       " u'\\u043e\\u0431',\n",
       " u'\\u043e\\u043d',\n",
       " u'\\u043e\\u0442',\n",
       " u'\\u043f\\u043e',\n",
       " u'\\u0441\\u043e',\n",
       " u'\\u0442\\u0430',\n",
       " u'\\u0442\\u0435',\n",
       " u'\\u0442\\u043e',\n",
       " u'\\u0442\\u0443',\n",
       " u'\\u0442\\u044b',\n",
       " u'\\u0443\\u0436',\n",
       " u'\\u0431\\u0435\\u0437',\n",
       " u'\\u0431\\u044b\\u043b',\n",
       " u'\\u0432\\u0430\\u043c',\n",
       " u'\\u0432\\u0430\\u0441',\n",
       " u'\\u0432\\u0430\\u0448',\n",
       " u'\\u0432\\u043e\\u043d',\n",
       " u'\\u0432\\u043e\\u0442',\n",
       " u'\\u0432\\u0441\\u0435',\n",
       " u'\\u0432\\u0441\\u044e',\n",
       " u'\\u0432\\u0441\\u044f',\n",
       " u'\\u0432\\u0441\\u0451',\n",
       " u'\\u0433\\u0434\\u0435',\n",
       " u'\\u0433\\u043e\\u0434',\n",
       " u'\\u0434\\u0432\\u0430',\n",
       " u'\\u0434\\u0432\\u0435',\n",
       " u'\\u0434\\u0435\\u043b',\n",
       " u'\\u0434\\u043b\\u044f',\n",
       " u'\\u0435\\u0433\\u043e',\n",
       " u'\\u0435\\u043c\\u0443',\n",
       " u'\\u0435\\u0449\\u0435',\n",
       " u'\\u0435\\u0449\\u0451',\n",
       " u'\\u0438\\u043b\\u0438',\n",
       " u'\\u0438\\u043c\\u0438',\n",
       " u'\\u0438\\u043c\\u044f',\n",
       " u'\\u043a\\u0430\\u043a',\n",
       " u'\\u043a\\u0435\\u043c',\n",
       " u'\\u043a\\u043e\\u043c',\n",
       " u'\\u043a\\u0442\\u043e',\n",
       " u'\\u043b\\u0435\\u0442',\n",
       " u'\\u043c\\u043d\\u0435',\n",
       " u'\\u043c\\u043e\\u0433',\n",
       " u'\\u043c\\u043e\\u0436',\n",
       " u'\\u043c\\u043e\\u0438',\n",
       " u'\\u043c\\u043e\\u0439',\n",
       " u'\\u043c\\u043e\\u0440',\n",
       " u'\\u043c\\u043e\\u044f',\n",
       " u'\\u043c\\u043e\\u0451',\n",
       " u'\\u043d\\u0430\\u0434',\n",
       " u'\\u043d\\u0430\\u043c',\n",
       " u'\\u043d\\u0430\\u0441',\n",
       " u'\\u043d\\u0430\\u0448',\n",
       " u'\\u043d\\u0435\\u0435',\n",
       " u'\\u043d\\u0435\\u0439',\n",
       " u'\\u043d\\u0435\\u043c',\n",
       " u'\\u043d\\u0435\\u0442',\n",
       " u'\\u043d\\u0435\\u044e',\n",
       " u'\\u043d\\u0435\\u0451',\n",
       " u'\\u043d\\u0438\\u0445',\n",
       " u'\\u043e\\u0431\\u0430',\n",
       " u'\\u043e\\u043d\\u0430',\n",
       " u'\\u043e\\u043d\\u0438',\n",
       " u'\\u043e\\u043d\\u043e',\n",
       " u'\\u043f\\u043e\\u0434',\n",
       " u'\\u043f\\u043e\\u0440',\n",
       " u'\\u043f\\u0440\\u0438',\n",
       " u'\\u043f\\u0440\\u043e',\n",
       " u'\\u0440\\u0430\\u0437',\n",
       " u'\\u0441\\u0430\\u043c',\n",
       " u'\\u0441\\u0438\\u0445',\n",
       " u'\\u0442\\u0430\\u043a',\n",
       " u'\\u0442\\u0430\\u043c',\n",
       " u'\\u0442\\u0435\\u043c',\n",
       " u'\\u0442\\u0435\\u0445',\n",
       " u'\\u0442\\u043e\\u043c',\n",
       " u'\\u0442\\u043e\\u0442',\n",
       " u'\\u0442\\u043e\\u044e',\n",
       " u'\\u0442\\u0440\\u0438',\n",
       " u'\\u0442\\u0443\\u0442',\n",
       " u'\\u0443\\u0436\\u0435',\n",
       " u'\\u0447\\u0435\\u043c',\n",
       " u'\\u0447\\u0442\\u043e',\n",
       " u'\\u044d\\u0442\\u0430',\n",
       " u'\\u044d\\u0442\\u0438',\n",
       " u'\\u044d\\u0442\\u043e',\n",
       " u'\\u044d\\u0442\\u0443',\n",
       " u'\\u0430\\u043b\\u043b\\u043e',\n",
       " u'\\u0431\\u0443\\u0434\\u0443',\n",
       " u'\\u0431\\u0443\\u0434\\u044c',\n",
       " u'\\u0431\\u044b\\u0432\\u044c',\n",
       " u'\\u0431\\u044b\\u043b\\u0430',\n",
       " u'\\u0431\\u044b\\u043b\\u0438',\n",
       " u'\\u0431\\u044b\\u043b\\u043e',\n",
       " u'\\u0431\\u044b\\u0442\\u044c',\n",
       " u'\\u0432\\u0430\\u043c\\u0438',\n",
       " u'\\u0432\\u0430\\u0448\\u0430',\n",
       " u'\\u0432\\u0430\\u0448\\u0435',\n",
       " u'\\u0432\\u0430\\u0448\\u0438',\n",
       " u'\\u0432\\u0435\\u0434\\u044c',\n",
       " u'\\u0432\\u0435\\u0441\\u044c',\n",
       " u'\\u0432\\u043d\\u0438\\u0437',\n",
       " u'\\u0432\\u0441\\u0435\\u043c',\n",
       " u'\\u0432\\u0441\\u0435\\u0445',\n",
       " u'\\u0432\\u0441\\u0435\\u044e',\n",
       " u'\\u0433\\u043e\\u0434\\u0430',\n",
       " u'\\u0433\\u043e\\u0434\\u0443',\n",
       " u'\\u0434\\u0430\\u0436\\u0435',\n",
       " u'\\u0434\\u0432\\u0443\\u0445',\n",
       " u'\\u0434\\u0435\\u043d\\u044c',\n",
       " u'\\u0435\\u0441\\u043b\\u0438',\n",
       " u'\\u0435\\u0441\\u0442\\u044c',\n",
       " u'\\u0437\\u0430\\u0442\\u043e',\n",
       " u'\\u043a\\u043e\\u0433\\u043e',\n",
       " u'\\u043a\\u043e\\u043c\\u0443',\n",
       " u'\\u043a\\u0443\\u0434\\u0430',\n",
       " u'\\u043b\\u0438\\u0448\\u044c',\n",
       " u'\\u043b\\u044e\\u0434\\u0438',\n",
       " u'\\u043c\\u0430\\u043b\\u043e',\n",
       " u'\\u043c\\u0435\\u043b\\u044f',\n",
       " u'\\u043c\\u0435\\u043d\\u044f',\n",
       " u'\\u043c\\u0438\\u043c\\u043e',\n",
       " u'\\u043c\\u0438\\u0440\\u0430',\n",
       " u'\\u043c\\u043d\\u043e\\u0439',\n",
       " u'\\u043c\\u043d\\u043e\\u044e',\n",
       " u'\\u043c\\u043e\\u0447\\u044c',\n",
       " u'\\u043d\\u0430\\u0434\\u043e',\n",
       " u'\\u043d\\u0430\\u043c\\u0438',\n",
       " u'\\u043d\\u0430\\u0448\\u0430',\n",
       " u'\\u043d\\u0430\\u0448\\u0435',\n",
       " u'\\u043d\\u0430\\u0448\\u0438',\n",
       " u'\\u043d\\u0435\\u0433\\u043e',\n",
       " u'\\u043d\\u0435\\u043c\\u0443',\n",
       " u'\\u043d\\u0438\\u0436\\u0435',\n",
       " u'\\u043d\\u0438\\u043c\\u0438',\n",
       " u'\\u043e\\u0434\\u0438\\u043d',\n",
       " u'\\u043f\\u043e\\u043a\\u0430',\n",
       " u'\\u043f\\u043e\\u0440\\u0430',\n",
       " u'\\u043f\\u044f\\u0442\\u044c',\n",
       " u'\\u0440\\u0430\\u043d\\u043e',\n",
       " u'\\u0441\\u0430\\u043c\\u0430',\n",
       " u'\\u0441\\u0430\\u043c\\u0438',\n",
       " u'\\u0441\\u0430\\u043c\\u043e',\n",
       " u'\\u0441\\u0430\\u043c\\u0443',\n",
       " u'\\u0441\\u0432\\u043e\\u0435',\n",
       " u'\\u0441\\u0432\\u043e\\u0438',\n",
       " u'\\u0441\\u0432\\u043e\\u044e',\n",
       " u'\\u0441\\u0435\\u0431\\u0435',\n",
       " u'\\u0441\\u0435\\u0431\\u044f',\n",
       " u'\\u0441\\u0435\\u043c\\u044c',\n",
       " u'\\u0441\\u0442\\u0430\\u043b',\n",
       " u'\\u0441\\u0443\\u0442\\u044c',\n",
       " u'\\u0442\\u0432\\u043e\\u0439',\n",
       " u'\\u0442\\u0432\\u043e\\u044f',\n",
       " u'\\u0442\\u0432\\u043e\\u0451',\n",
       " u'\\u0442\\u0435\\u0431\\u0435',\n",
       " u'\\u0442\\u0435\\u0431\\u044f',\n",
       " u'\\u0442\\u0435\\u043c\\u0438',\n",
       " u'\\u0442\\u043e\\u0433\\u043e',\n",
       " u'\\u0442\\u043e\\u0436\\u0435',\n",
       " u'\\u0442\\u043e\\u043c\\u0443',\n",
       " u'\\u0442\\u0443\\u0434\\u0430',\n",
       " u'\\u0445\\u043e\\u0442\\u044c',\n",
       " u'\\u0445\\u043e\\u0442\\u044f',\n",
       " u'\\u0447\\u0430\\u0449\\u0435',\n",
       " u'\\u0447\\u0435\\u0433\\u043e',\n",
       " u'\\u0447\\u0435\\u043c\\u0443',\n",
       " u'\\u0447\\u0442\\u043e\\u0431',\n",
       " u'\\u0447\\u0443\\u0442\\u044c',\n",
       " u'\\u044d\\u0442\\u0438\\u043c',\n",
       " u'\\u044d\\u0442\\u0438\\u0445',\n",
       " u'\\u044d\\u0442\\u043e\\u0439',\n",
       " u'\\u044d\\u0442\\u043e\\u043c',\n",
       " u'\\u044d\\u0442\\u043e\\u0442',\n",
       " u'\\u0431\\u043e\\u043b\\u0435\\u0435',\n",
       " u'\\u0431\\u0443\\u0434\\u0435\\u043c',\n",
       " u'\\u0431\\u0443\\u0434\\u0435\\u0442',\n",
       " u'\\u0431\\u0443\\u0434\\u0442\\u043e',\n",
       " u'\\u0431\\u0443\\u0434\\u0443\\u0442',\n",
       " u'\\u0432\\u0432\\u0435\\u0440\\u0445',\n",
       " u'\\u0432\\u0434\\u0430\\u043b\\u0438',\n",
       " u'\\u0432\\u0434\\u0440\\u0443\\u0433',\n",
       " u'\\u0432\\u0435\\u0437\\u0434\\u0435',\n",
       " u'\\u0432\\u043d\\u0438\\u0437\\u0443',\n",
       " u'\\u0432\\u0440\\u0435\\u043c\\u044f',\n",
       " u'\\u0432\\u0441\\u0435\\u0433\\u043e',\n",
       " u'\\u0432\\u0441\\u0435\\u043c\\u0438',\n",
       " u'\\u0432\\u0441\\u0435\\u043c\\u0443',\n",
       " u'\\u0432\\u0441\\u044e\\u0434\\u0443',\n",
       " u'\\u0434\\u0430\\u0432\\u043d\\u043e',\n",
       " u'\\u0434\\u0430\\u0440\\u043e\\u043c',\n",
       " u'\\u0434\\u043e\\u043b\\u0433\\u043e',\n",
       " u'\\u0434\\u0440\\u0443\\u0433\\u043e',\n",
       " u'\\u0436\\u0438\\u0437\\u043d\\u044c',\n",
       " u'\\u0437\\u0430\\u043d\\u044f\\u0442',\n",
       " u'\\u0437\\u0430\\u0442\\u0435\\u043c',\n",
       " u'\\u0437\\u0430\\u0447\\u0435\\u043c',\n",
       " u'\\u0437\\u0434\\u0435\\u0441\\u044c',\n",
       " u'\\u0438\\u043c\\u0435\\u0442\\u044c',\n",
       " u'\\u043a\\u0430\\u043a\\u0430\\u044f',\n",
       " u'\\u043a\\u0430\\u043a\\u043e\\u0439',\n",
       " u'\\u043a\\u043e\\u0433\\u0434\\u0430',\n",
       " u'\\u043a\\u0440\\u043e\\u043c\\u0435',\n",
       " u'\\u043b\\u0443\\u0447\\u0448\\u0435',\n",
       " u'\\u043c\\u0435\\u0436\\u0434\\u0443',\n",
       " u'\\u043c\\u0435\\u043d\\u0435\\u0435',\n",
       " u'\\u043c\\u043d\\u043e\\u0433\\u043e',\n",
       " u'\\u043c\\u043e\\u0433\\u0443\\u0442',\n",
       " u'\\u043c\\u043e\\u0436\\u0435\\u0442',\n",
       " u'\\u043c\\u043e\\u0436\\u043d\\u043e',\n",
       " u'\\u043c\\u043e\\u0436\\u0445\\u043e',\n",
       " u'\\u043d\\u0430\\u0437\\u0430\\u0434',\n",
       " u'\\u043d\\u0438\\u0437\\u043a\\u043e',\n",
       " u'\\u043d\\u0443\\u0436\\u043d\\u043e',\n",
       " u'\\u043e\\u0434\\u043d\\u043e\\u0439',\n",
       " u'\\u043e\\u043a\\u043e\\u043b\\u043e',\n",
       " u'\\u043e\\u043f\\u044f\\u0442\\u044c',\n",
       " u'\\u043e\\u0447\\u0435\\u043d\\u044c',\n",
       " u'\\u043f\\u0435\\u0440\\u0435\\u0434',\n",
       " u'\\u043f\\u043e\\u0437\\u0436\\u0435',\n",
       " u'\\u043f\\u043e\\u0441\\u043b\\u0435',\n",
       " u'\\u043f\\u043e\\u0442\\u043e\\u043c',\n",
       " u'\\u043f\\u043e\\u0447\\u0442\\u0438',\n",
       " u'\\u043f\\u044f\\u0442\\u044b\\u0439',\n",
       " u'\\u0440\\u0430\\u0437\\u0432\\u0435',\n",
       " u'\\u0440\\u044f\\u0434\\u043e\\u043c',\n",
       " u'\\u0441\\u0430\\u043c\\u0438\\u043c',\n",
       " u'\\u0441\\u0430\\u043c\\u0438\\u0445',\n",
       " u'\\u0441\\u0430\\u043c\\u043e\\u0439',\n",
       " u'\\u0441\\u0430\\u043c\\u043e\\u043c',\n",
       " u'\\u0441\\u0432\\u043e\\u0435\\u0439',\n",
       " u'\\u0441\\u0432\\u043e\\u0438\\u0445',\n",
       " u'\\u0441\\u0435\\u0430\\u043e\\u0439',\n",
       " u'\\u0441\\u043d\\u043e\\u0432\\u0430',\n",
       " u'\\u0441\\u043e\\u0431\\u043e\\u0439',\n",
       " u'\\u0441\\u043e\\u0431\\u043e\\u044e',\n",
       " u'\\u0442\\u0430\\u043a\\u0430\\u044f',\n",
       " u'\\u0442\\u0430\\u043a\\u0436\\u0435',\n",
       " u'\\u0442\\u0430\\u043a\\u0438\\u0435',\n",
       " u'\\u0442\\u0430\\u043a\\u043e\\u0435',\n",
       " u'\\u0442\\u0430\\u043a\\u043e\\u0439',\n",
       " u'\\u0442\\u043e\\u0431\\u043e\\u0439',\n",
       " u'\\u0442\\u043e\\u0431\\u043e\\u044e',\n",
       " u'\\u0442\\u043e\\u0433\\u0434\\u0430',\n",
       " u'\\u0442\\u044b\\u0441\\u044f\\u0447',\n",
       " u'\\u0443\\u043c\\u0435\\u0442\\u044c',\n",
       " u'\\u0447\\u0430\\u0441\\u0442\\u043e',\n",
       " u'\\u0447\\u0435\\u0440\\u0435\\u0437',\n",
       " u'\\u0447\\u0442\\u043e\\u0431\\u044b',\n",
       " u'\\u0448\\u0435\\u0441\\u0442\\u044c',\n",
       " u'\\u044d\\u0442\\u0438\\u043c\\u0438',\n",
       " u'\\u044d\\u0442\\u043e\\u0433\\u043e',\n",
       " u'\\u044d\\u0442\\u043e\\u043c\\u0443',\n",
       " u'\\u0431\\u043b\\u0438\\u0437\\u043a\\u043e',\n",
       " u'\\u0431\\u043e\\u043b\\u044c\\u0448\\u0435',\n",
       " u'\\u0431\\u0443\\u0434\\u0435\\u0442\\u0435',\n",
       " u'\\u0431\\u0443\\u0434\\u0435\\u0448\\u044c',\n",
       " u'\\u0431\\u044b\\u0432\\u0430\\u0435\\u0442',\n",
       " u'\\u0432\\u0430\\u0436\\u043d\\u0430\\u044f',\n",
       " u'\\u0432\\u0430\\u0436\\u043d\\u043e\\u0435',\n",
       " u'\\u0432\\u0430\\u0436\\u043d\\u044b\\u0435',\n",
       " u'\\u0432\\u0430\\u0436\\u043d\\u044b\\u0439',\n",
       " u'\\u0432\\u043e\\u043a\\u0440\\u0443\\u0433',\n",
       " u'\\u0432\\u043e\\u0441\\u0435\\u043c\\u044c',\n",
       " u'\\u0432\\u0441\\u0435\\u0433\\u0434\\u0430',\n",
       " u'\\u0432\\u0442\\u043e\\u0440\\u043e\\u0439',\n",
       " u'\\u0434\\u0430\\u043b\\u0435\\u043a\\u043e',\n",
       " u'\\u0434\\u0430\\u043b\\u044c\\u0448\\u0435',\n",
       " u'\\u0434\\u0435\\u0432\\u044f\\u0442\\u044c',\n",
       " u'\\u0434\\u0435\\u0441\\u044f\\u0442\\u044c',\n",
       " u'\\u0434\\u043e\\u043b\\u0436\\u043d\\u043e',\n",
       " u'\\u0434\\u0440\\u0443\\u0433\\u0430\\u044f',\n",
       " u'\\u0434\\u0440\\u0443\\u0433\\u0438\\u0435',\n",
       " u'\\u0434\\u0440\\u0443\\u0433\\u0438\\u0445',\n",
       " u'\\u0434\\u0440\\u0443\\u0433\\u043e\\u0435',\n",
       " u'\\u0434\\u0440\\u0443\\u0433\\u043e\\u0439',\n",
       " u'\\u0437\\u0430\\u043d\\u044f\\u0442\\u0430',\n",
       " u'\\u0437\\u0430\\u043d\\u044f\\u0442\\u043e',\n",
       " u'\\u0437\\u0430\\u043d\\u044f\\u0442\\u044b',\n",
       " u'\\u0437\\u043d\\u0430\\u0447\\u0438\\u0442',\n",
       " u'\\u0438\\u043c\\u0435\\u043d\\u043d\\u043e',\n",
       " u'\\u0438\\u043d\\u043e\\u0433\\u0434\\u0430',\n",
       " u'\\u043a\\u0430\\u0436\\u0434\\u0430\\u044f',\n",
       " u'\\u043a\\u0430\\u0436\\u0434\\u043e\\u0435',\n",
       " u'\\u043a\\u0430\\u0436\\u0434\\u044b\\u0435',\n",
       " u'\\u043a\\u0430\\u0436\\u0434\\u044b\\u0439',\n",
       " u'\\u043a\\u0440\\u0443\\u0433\\u043e\\u043c',\n",
       " u'\\u043c\\u0435\\u043d\\u044c\\u0448\\u0435',\n",
       " u'\\u043d\\u0430\\u0447\\u0430\\u043b\\u0430',\n",
       " u'\\u043d\\u0435\\u043b\\u044c\\u0437\\u044f',\n",
       " u'\\u043d\\u0438\\u0431\\u0443\\u0434\\u044c',\n",
       " u'\\u043d\\u0438\\u043a\\u0443\\u0434\\u0430',\n",
       " u'\\u043d\\u0438\\u0447\\u0435\\u0433\\u043e',\n",
       " u'\\u043e\\u0431\\u044b\\u0447\\u043d\\u043e',\n",
       " u'\\u043e\\u0434\\u043d\\u0430\\u043a\\u043e',\n",
       " u'\\u043e\\u0434\\u043d\\u043e\\u0433\\u043e',\n",
       " u'\\u043e\\u0442\\u0441\\u044e\\u0434\\u0430',\n",
       " u'\\u043f\\u0435\\u0440\\u0432\\u044b\\u0439',\n",
       " u'\\u043f\\u043e\\u0442\\u043e\\u043c\\u0443',\n",
       " u'\\u043f\\u043e\\u0447\\u0435\\u043c\\u0443',\n",
       " u'\\u043f\\u0440\\u043e\\u0441\\u0442\\u043e',\n",
       " u'\\u043f\\u0440\\u043e\\u0442\\u0438\\u0432',\n",
       " u'\\u0440\\u0430\\u043d\\u044c\\u0448\\u0435',\n",
       " u'\\u0441\\u0430\\u043c\\u0438\\u043c\\u0438',\n",
       " u'\\u0441\\u0430\\u043c\\u043e\\u0433\\u043e',\n",
       " u'\\u0441\\u0430\\u043c\\u043e\\u043c\\u0443',\n",
       " u'\\u0441\\u0432\\u043e\\u0435\\u0433\\u043e',\n",
       " u'\\u0441\\u0435\\u0439\\u0447\\u0430\\u0441',\n",
       " u'\\u0441\\u043a\\u0430\\u0437\\u0430\\u043b',\n",
       " u'\\u0441\\u043e\\u0432\\u0441\\u0435\\u043c',\n",
       " u'\\u0442\\u0435\\u043f\\u0435\\u0440\\u044c',\n",
       " u'\\u0442\\u043e\\u043b\\u044c\\u043a\\u043e',\n",
       " u'\\u0442\\u0440\\u0435\\u0442\\u0438\\u0439',\n",
       " u'\\u0445\\u043e\\u0440\\u043e\\u0448\\u043e',\n",
       " u'\\u0445\\u043e\\u0442\\u0435\\u0442\\u044c',\n",
       " u'\\u0445\\u043e\\u0447\\u0435\\u0448\\u044c',\n",
       " u'\\u0447\\u0435\\u0442\\u044b\\u0440\\u0435',\n",
       " u'\\u0448\\u0435\\u0441\\u0442\\u043e\\u0439',\n",
       " u'\\u0432\\u043e\\u0441\\u044c\\u043c\\u043e\\u0439',\n",
       " u'\\u0432\\u043f\\u0440\\u043e\\u0447\\u0435\\u043c',\n",
       " u'\\u0432\\u0440\\u0435\\u043c\\u0435\\u043d\\u0438',\n",
       " u'\\u0433\\u043e\\u0432\\u043e\\u0440\\u0438\\u043b',\n",
       " u'\\u0433\\u043e\\u0432\\u043e\\u0440\\u0438\\u0442',\n",
       " u'\\u0434\\u0435\\u0432\\u044f\\u0442\\u044b\\u0439',\n",
       " u'\\u0434\\u0435\\u0441\\u044f\\u0442\\u044b\\u0439',\n",
       " u'\\u043a\\u0430\\u0436\\u0435\\u0442\\u0441\\u044f',\n",
       " u'\\u043a\\u043e\\u043d\\u0435\\u0447\\u043d\\u043e',\n",
       " u'\\u043a\\u043e\\u0442\\u043e\\u0440\\u0430\\u044f',\n",
       " u'\\u043a\\u043e\\u0442\\u043e\\u0440\\u043e\\u0439',\n",
       " u'\\u043a\\u043e\\u0442\\u043e\\u0440\\u044b\\u0435',\n",
       " u'\\u043a\\u043e\\u0442\\u043e\\u0440\\u044b\\u0439',\n",
       " u'\\u043a\\u043e\\u0442\\u043e\\u0440\\u044b\\u0445',\n",
       " u'\\u043d\\u0430\\u0432\\u0435\\u0440\\u0445\\u0443',\n",
       " u'\\u043d\\u0430\\u043a\\u043e\\u043d\\u0435\\u0446',\n",
       " u'\\u043d\\u0435\\u0434\\u0430\\u0432\\u043d\\u043e',\n",
       " u'\\u043d\\u0435\\u043c\\u043d\\u043e\\u0433\\u043e',\n",
       " u'\\u043d\\u0435\\u0440\\u0435\\u0434\\u043a\\u043e',\n",
       " u'\\u043d\\u0438\\u043a\\u043e\\u0433\\u0434\\u0430',\n",
       " u'\\u043e\\u0434\\u043d\\u0430\\u0436\\u0434\\u044b',\n",
       " u'\\u043f\\u043e\\u0441\\u0440\\u0435\\u0434\\u0438',\n",
       " u'\\u0441\\u0435\\u0433\\u043e\\u0434\\u043d\\u044f',\n",
       " u'\\u0441\\u0435\\u0434\\u044c\\u043c\\u043e\\u0439',\n",
       " u'\\u0441\\u043a\\u0430\\u0437\\u0430\\u043b\\u0430',\n",
       " u'\\u0441\\u043a\\u0430\\u0437\\u0430\\u0442\\u044c',\n",
       " u'\\u0441\\u043a\\u043e\\u043b\\u044c\\u043a\\u043e',\n",
       " u'\\u0441\\u043b\\u0438\\u0448\\u043a\\u043e\\u043c',\n",
       " u'\\u0441\\u043d\\u0430\\u0447\\u0430\\u043b\\u0430',\n",
       " u'\\u0441\\u043f\\u0430\\u0441\\u0438\\u0431\\u043e',\n",
       " u'\\u0447\\u0435\\u043b\\u043e\\u0432\\u0435\\u043a',\n",
       " u'\\u0434\\u0432\\u0430\\u0434\\u0446\\u0430\\u0442\\u044c',\n",
       " u'\\u0434\\u043e\\u0432\\u043e\\u043b\\u044c\\u043d\\u043e',\n",
       " u'\\u043a\\u043e\\u0442\\u043e\\u0440\\u043e\\u0433\\u043e',\n",
       " u'\\u043d\\u0430\\u0438\\u0431\\u043e\\u043b\\u0435\\u0435',\n",
       " u'\\u043d\\u0435\\u0434\\u0430\\u043b\\u0435\\u043a\\u043e',\n",
       " u'\\u043e\\u0441\\u043e\\u0431\\u0435\\u043d\\u043d\\u043e',\n",
       " u'\\u043e\\u0442\\u043e\\u0432\\u0441\\u044e\\u0434\\u0443',\n",
       " u'\\u0434\\u0432\\u0430\\u0434\\u0446\\u0430\\u0442\\u044b\\u0439',\n",
       " u'\\u043c\\u0438\\u043b\\u043b\\u0438\\u043e\\u043d\\u043e\\u0432',\n",
       " u'\\u043d\\u0435\\u0441\\u043a\\u043e\\u043b\\u044c\\u043a\\u043e',\n",
       " u'\\u043f\\u0440\\u0435\\u043a\\u0440\\u0430\\u0441\\u043d\\u043e',\n",
       " u'\\u043f\\u0440\\u043e\\u0446\\u0435\\u043d\\u0442\\u043e\\u0432',\n",
       " u'\\u0447\\u0435\\u0442\\u0432\\u0435\\u0440\\u0442\\u044b\\u0439',\n",
       " u'\\u0434\\u0432\\u0435\\u043d\\u0430\\u0434\\u0446\\u0430\\u0442\\u044c',\n",
       " u'\\u043d\\u0435\\u043f\\u0440\\u0435\\u0440\\u044b\\u0432\\u043d\\u043e',\n",
       " u'\\u043f\\u043e\\u0436\\u0430\\u043b\\u0443\\u0439\\u0441\\u0442\\u0430',\n",
       " u'\\u043f\\u044f\\u0442\\u043d\\u0430\\u0434\\u0446\\u0430\\u0442\\u044c',\n",
       " u'\\u0441\\u0435\\u043c\\u043d\\u0430\\u0434\\u0446\\u0430\\u0442\\u044c',\n",
       " u'\\u0442\\u0440\\u0438\\u043d\\u0430\\u0434\\u0446\\u0430\\u0442\\u044c',\n",
       " u'\\u0434\\u0432\\u0435\\u043d\\u0430\\u0434\\u0446\\u0430\\u0442\\u044b\\u0439',\n",
       " u'\\u043e\\u0434\\u0438\\u043d\\u043d\\u0430\\u0434\\u0446\\u0430\\u0442\\u044c',\n",
       " u'\\u043f\\u044f\\u0442\\u043d\\u0430\\u0434\\u0446\\u0430\\u0442\\u044b\\u0439',\n",
       " u'\\u0441\\u0435\\u043c\\u043d\\u0430\\u0434\\u0446\\u0430\\u0442\\u044b\\u0439',\n",
       " u'\\u0442\\u0440\\u0438\\u043d\\u0430\\u0434\\u0446\\u0430\\u0442\\u044b\\u0439',\n",
       " u'\\u0448\\u0435\\u0441\\u0442\\u043d\\u0430\\u0434\\u0446\\u0430\\u0442\\u044c',\n",
       " u'\\u0432\\u043e\\u0441\\u0435\\u043c\\u043d\\u0430\\u0434\\u0446\\u0430\\u0442\\u044c',\n",
       " u'\\u0434\\u0435\\u0432\\u044f\\u0442\\u043d\\u0430\\u0434\\u0446\\u0430\\u0442\\u044c',\n",
       " u'\\u043e\\u0434\\u0438\\u043d\\u043d\\u0430\\u0434\\u0446\\u0430\\u0442\\u044b\\u0439',\n",
       " u'\\u0447\\u0435\\u0442\\u044b\\u0440\\u043d\\u0430\\u0434\\u0446\\u0430\\u0442\\u044c',\n",
       " u'\\u0448\\u0435\\u0441\\u0442\\u043d\\u0430\\u0434\\u0446\\u0430\\u0442\\u044b\\u0439',\n",
       " u'\\u0432\\u043e\\u0441\\u0435\\u043c\\u043d\\u0430\\u0434\\u0446\\u0430\\u0442\\u044b\\u0439',\n",
       " u'\\u0434\\u0435\\u0432\\u044f\\u0442\\u043d\\u0430\\u0434\\u0446\\u0430\\u0442\\u044b\\u0439',\n",
       " u'\\u0434\\u0435\\u0439\\u0441\\u0442\\u0432\\u0438\\u0442\\u0435\\u043b\\u044c\\u043d\\u043e',\n",
       " u'\\u0447\\u0435\\u0442\\u044b\\u0440\\u043d\\u0430\\u0434\\u0446\\u0430\\u0442\\u044b\\u0439',\n",
       " u'\\u043c\\u043d\\u043e\\u0433\\u043e\\u0447\\u0438\\u0441\\u043b\\u0435\\u043d\\u043d\\u0430\\u044f',\n",
       " u'\\u043c\\u043d\\u043e\\u0433\\u043e\\u0447\\u0438\\u0441\\u043b\\u0435\\u043d\\u043d\\u043e\\u0435',\n",
       " u'\\u043c\\u043d\\u043e\\u0433\\u043e\\u0447\\u0438\\u0441\\u043b\\u0435\\u043d\\u043d\\u044b\\u0435',\n",
       " u'\\u043c\\u043d\\u043e\\u0433\\u043e\\u0447\\u0438\\u0441\\u043b\\u0435\\u043d\\u043d\\u044b\\u0439']"
      ]
     },
     "execution_count": 60,
     "metadata": {},
     "output_type": "execute_result"
    }
   ],
   "source": [
    "stop_words"
   ]
  },
  {
   "cell_type": "code",
   "execution_count": 61,
   "metadata": {
    "collapsed": true
   },
   "outputs": [],
   "source": [
    "tfidf_vectorizer = TfidfVectorizer(stop_words=stop_words)"
   ]
  },
  {
   "cell_type": "code",
   "execution_count": 62,
   "metadata": {
    "collapsed": true
   },
   "outputs": [],
   "source": [
    "tfidf = tfidf_vectorizer.fit_transform(data.review_text_lemma[:5])"
   ]
  },
  {
   "cell_type": "code",
   "execution_count": 63,
   "metadata": {
    "collapsed": false
   },
   "outputs": [
    {
     "data": {
      "text/plain": [
       "<5x253 sparse matrix of type '<type 'numpy.float64'>'\n",
       "\twith 296 stored elements in Compressed Sparse Row format>"
      ]
     },
     "execution_count": 63,
     "metadata": {},
     "output_type": "execute_result"
    }
   ],
   "source": [
    "tfidf"
   ]
  },
  {
   "cell_type": "code",
   "execution_count": 64,
   "metadata": {
    "collapsed": false
   },
   "outputs": [
    {
     "name": "stdout",
     "output_type": "stream",
     "text": [
      "кстати\n",
      "квартира\n",
      "персональный\n",
      "возникать\n",
      "обработка\n",
      "карман\n",
      "разблокироваться\n",
      "держать\n",
      "проблема\n",
      "карта\n",
      "ко\n",
      "странный\n",
      "уважаемый\n",
      "сделать\n",
      "быстро\n",
      "отменять\n",
      "решать\n",
      "совершеннолетняя\n",
      "узнавать\n",
      "26\n",
      "взять\n",
      "20\n",
      "кредит\n",
      "уважение\n",
      "декретный\n",
      "проходить\n",
      "3852\n",
      "вносить\n",
      "2017\n",
      "согласие\n",
      "последний\n",
      "больница\n",
      "протяжение\n",
      "откликаться\n",
      "прокуратура\n",
      "ребенок\n",
      "работать\n",
      "понедельник\n",
      "поверять\n",
      "137рф\n",
      "курс\n",
      "билайн\n",
      "банка\n",
      "ограниченный\n",
      "единственный\n",
      "судебный\n",
      "настоящий\n",
      "чей\n",
      "руководство\n",
      "отбирать\n",
      "стечение\n",
      "специалист\n",
      "реструктуризация\n",
      "писать\n",
      "520\n",
      "сотрудник\n",
      "уважать\n",
      "55\n",
      "суббота\n",
      "указывать\n",
      "игнор\n",
      "51\n",
      "53\n",
      "52\n",
      "заинтересовываться\n",
      "друг\n",
      "куча\n",
      "пристав\n",
      "директор\n",
      "счет\n",
      "неудобство\n",
      "сентинелла\n",
      "число\n",
      "плакать\n",
      "точно\n",
      "вопрос\n",
      "деньги\n",
      "ездить\n",
      "звонить\n",
      "предупреждение\n",
      "надежда\n",
      "погашение\n",
      "приходить\n",
      "начинать\n",
      "успевать\n",
      "задавать\n",
      "альфа\n",
      "пользоваться\n",
      "статья\n",
      "приходиться\n",
      "информация\n",
      "благодарный\n",
      "06\n",
      "04\n",
      "05\n",
      "минимальный\n",
      "страховка\n",
      "08\n",
      "заявление\n",
      "неправильно\n",
      "ямской\n",
      "выполнять\n",
      "смс\n",
      "перевод\n",
      "родственник\n",
      "предоставлять\n",
      "становиться\n",
      "зайти\n",
      "привлечение\n",
      "27\n",
      "утро\n",
      "разрешение\n",
      "блокировка\n",
      "телефон\n",
      "некоторый\n",
      "марта\n",
      "подчиненный\n",
      "вставать\n",
      "нервный\n",
      "30\n",
      "запоминать\n",
      "контакт\n",
      "звонок\n",
      "вообще\n",
      "уведомлять\n",
      "ответственный\n",
      "знать\n",
      "период\n",
      "нужный\n",
      "порядок\n",
      "рвение\n",
      "договор\n",
      "генеральный\n",
      "потрясение\n",
      "совершаться\n",
      "тверская\n",
      "постоянно\n",
      "убирать\n",
      "благодарность\n",
      "обстоятельство\n",
      "возможность\n",
      "клиент\n",
      "отпуск\n",
      "запугивать\n",
      "подавать\n",
      "данный\n",
      "отзыв\n",
      "данные\n",
      "возможно\n",
      "закон\n",
      "записываться\n",
      "никто\n",
      "отчет\n",
      "ук\n",
      "помощь\n",
      "обращаться\n",
      "предлагать\n",
      "банк\n",
      "донимать\n",
      "номер\n",
      "903\n",
      "здравствовать\n",
      "орган\n",
      "пользование\n",
      "причем\n",
      "заполнять\n",
      "агенство\n",
      "оседать\n",
      "навязывать\n",
      "месяц\n",
      "задолженность\n",
      "прекращаться\n",
      "наверное\n",
      "разводить\n",
      "10\n",
      "15\n",
      "14\n",
      "66\n",
      "16\n",
      "компания\n",
      "совет\n",
      "зависеть\n",
      "рука\n",
      "коллега\n",
      "сообщать\n",
      "волноваться\n",
      "суд\n",
      "минута\n",
      "поступать\n",
      "приемная\n",
      "дочь\n",
      "давать\n",
      "телефонный\n",
      "разглашение\n",
      "спрашивать\n",
      "контролировать\n",
      "лицо\n",
      "муж\n",
      "услуга\n",
      "выдача\n",
      "сипягина\n",
      "вклад\n",
      "хотеться\n",
      "повод\n",
      "необходимо\n",
      "лишний\n",
      "вечер\n",
      "46\n",
      "повторяться\n",
      "требовать\n",
      "42\n",
      "выражать\n",
      "40\n",
      "профессионально\n",
      "позвонить\n",
      "добрый\n",
      "перечисляться\n",
      "фссп\n",
      "выезжать\n",
      "свой\n",
      "александр\n",
      "ссылка\n",
      "караться\n",
      "реально\n",
      "сенсител\n",
      "полный\n",
      "работа\n",
      "платеж\n",
      "кредитный\n",
      "заблокировать\n",
      "74\n",
      "интересно\n",
      "отделение\n",
      "сотовый\n",
      "чужой\n",
      "бумажка\n",
      "разговор\n",
      "любой\n",
      "руководитель\n",
      "находиться\n",
      "просить\n",
      "новый\n",
      "час\n",
      "подтверждать\n",
      "являться\n",
      "отказывать\n",
      "закрывать\n",
      "ежедневно\n",
      "регламент\n",
      "угрожать\n",
      "основание\n",
      "предупреждать\n",
      "машина\n"
     ]
    }
   ],
   "source": [
    "for key in tfidf_vectorizer.vocabulary_:\n",
    "    print key"
   ]
  },
  {
   "cell_type": "code",
   "execution_count": 70,
   "metadata": {
    "collapsed": true
   },
   "outputs": [],
   "source": [
    "def tfidf_preproc(text):\n",
    "    return filter(lambda x: not x.isdigit(), text)"
   ]
  },
  {
   "cell_type": "code",
   "execution_count": 71,
   "metadata": {
    "collapsed": true
   },
   "outputs": [],
   "source": [
    "tfidf_vectorizer = TfidfVectorizer(stop_words=stop_words, preprocessor=tfidf_preproc)"
   ]
  },
  {
   "cell_type": "code",
   "execution_count": 72,
   "metadata": {
    "collapsed": true
   },
   "outputs": [],
   "source": [
    "tfidf = tfidf_vectorizer.fit_transform(data.review_text_lemma[:5])"
   ]
  },
  {
   "cell_type": "code",
   "execution_count": 73,
   "metadata": {
    "collapsed": false
   },
   "outputs": [
    {
     "data": {
      "text/plain": [
       "<5x228 sparse matrix of type '<type 'numpy.float64'>'\n",
       "\twith 268 stored elements in Compressed Sparse Row format>"
      ]
     },
     "execution_count": 73,
     "metadata": {},
     "output_type": "execute_result"
    }
   ],
   "source": [
    "tfidf"
   ]
  },
  {
   "cell_type": "code",
   "execution_count": 74,
   "metadata": {
    "collapsed": false
   },
   "outputs": [
    {
     "name": "stdout",
     "output_type": "stream",
     "text": [
      "кстати\n",
      "квартира\n",
      "возникать\n",
      "обработка\n",
      "карман\n",
      "разблокироваться\n",
      "держать\n",
      "проблема\n",
      "карта\n",
      "ко\n",
      "странный\n",
      "уважаемый\n",
      "сделать\n",
      "быстро\n",
      "отменять\n",
      "решать\n",
      "совершеннолетняя\n",
      "узнавать\n",
      "причем\n",
      "взять\n",
      "кредит\n",
      "уважение\n",
      "декретный\n",
      "проходить\n",
      "вносить\n",
      "согласие\n",
      "последний\n",
      "больница\n",
      "протяжение\n",
      "откликаться\n",
      "прокуратура\n",
      "ребенок\n",
      "работать\n",
      "понедельник\n",
      "поверять\n",
      "отделение\n",
      "курс\n",
      "билайн\n",
      "банка\n",
      "ограниченный\n",
      "единственный\n",
      "судебный\n",
      "настоящий\n",
      "чей\n",
      "руководство\n",
      "отбирать\n",
      "стечение\n",
      "специалист\n",
      "реструктуризация\n",
      "платеж\n",
      "сотрудник\n",
      "уважать\n",
      "заинтересовываться\n",
      "суббота\n",
      "указывать\n",
      "игнор\n",
      "друг\n",
      "куча\n",
      "директор\n",
      "счет\n",
      "неудобство\n",
      "сентинелла\n",
      "число\n",
      "плакать\n",
      "точно\n",
      "вопрос\n",
      "деньги\n",
      "ездить\n",
      "звонить\n",
      "предупреждение\n",
      "надежда\n",
      "погашение\n",
      "приходить\n",
      "начинать\n",
      "успевать\n",
      "задавать\n",
      "альфа\n",
      "пользоваться\n",
      "статья\n",
      "приходиться\n",
      "информация\n",
      "благодарный\n",
      "минимальный\n",
      "страховка\n",
      "заявление\n",
      "неправильно\n",
      "выполнять\n",
      "смс\n",
      "перевод\n",
      "родственник\n",
      "предоставлять\n",
      "становиться\n",
      "привлечение\n",
      "вообще\n",
      "утро\n",
      "разрешение\n",
      "блокировка\n",
      "телефон\n",
      "некоторый\n",
      "марта\n",
      "подчиненный\n",
      "вставать\n",
      "нервный\n",
      "запоминать\n",
      "контакт\n",
      "звонок\n",
      "пристав\n",
      "уведомлять\n",
      "ответственный\n",
      "знать\n",
      "период\n",
      "нужный\n",
      "порядок\n",
      "рвение\n",
      "договор\n",
      "генеральный\n",
      "потрясение\n",
      "совершаться\n",
      "тверская\n",
      "постоянно\n",
      "убирать\n",
      "благодарность\n",
      "обстоятельство\n",
      "возможность\n",
      "клиент\n",
      "отпуск\n",
      "запугивать\n",
      "подавать\n",
      "данный\n",
      "отзыв\n",
      "данные\n",
      "возможно\n",
      "закон\n",
      "записываться\n",
      "никто\n",
      "отчет\n",
      "ук\n",
      "помощь\n",
      "ФССП\n",
      "обращаться\n",
      "предлагать\n",
      "банк\n",
      "донимать\n",
      "номер\n",
      "требовать\n",
      "здравствовать\n",
      "орган\n",
      "пользование\n",
      "заполнять\n",
      "агенство\n",
      "оседать\n",
      "навязывать\n",
      "месяц\n",
      "задолженность\n",
      "прекращаться\n",
      "разводить\n",
      "наверное\n",
      "ямской\n",
      "компания\n",
      "совет\n",
      "зависеть\n",
      "рука\n",
      "коллега\n",
      "сообщать\n",
      "волноваться\n",
      "суд\n",
      "минута\n",
      "поступать\n",
      "приемная\n",
      "дочь\n",
      "давать\n",
      "телефонный\n",
      "разглашение\n",
      "спрашивать\n",
      "контролировать\n",
      "вечер\n",
      "час\n",
      "муж\n",
      "услуга\n",
      "выдача\n",
      "сипягина\n",
      "вклад\n",
      "хотеться\n",
      "повод\n",
      "необходимо\n",
      "лишний\n",
      "РФ\n",
      "повторяться\n",
      "персональный\n",
      "выражать\n",
      "писать\n",
      "профессионально\n",
      "позвонить\n",
      "добрый\n",
      "перечисляться\n",
      "выезжать\n",
      "свой\n",
      "александр\n",
      "ссылка\n",
      "караться\n",
      "реально\n",
      "сенсител\n",
      "полный\n",
      "работа\n",
      "зайти\n",
      "кредитный\n",
      "заблокировать\n",
      "интересно\n",
      "сотовый\n",
      "чужой\n",
      "бумажка\n",
      "разговор\n",
      "любой\n",
      "руководитель\n",
      "находиться\n",
      "просить\n",
      "новый\n",
      "лицо\n",
      "подтверждать\n",
      "являться\n",
      "отказывать\n",
      "закрывать\n",
      "ежедневно\n",
      "регламент\n",
      "угрожать\n",
      "основание\n",
      "предупреждать\n",
      "машина\n"
     ]
    }
   ],
   "source": [
    "for key in tfidf_vectorizer.vocabulary_:\n",
    "    print key"
   ]
  },
  {
   "cell_type": "code",
   "execution_count": null,
   "metadata": {
    "collapsed": true
   },
   "outputs": [],
   "source": []
  },
  {
   "cell_type": "code",
   "execution_count": null,
   "metadata": {
    "collapsed": true
   },
   "outputs": [],
   "source": []
  }
 ],
 "metadata": {
  "anaconda-cloud": {},
  "hide_input": false,
  "kernelspec": {
   "display_name": "Python [Root]",
   "language": "python",
   "name": "Python [Root]"
  },
  "language_info": {
   "codemirror_mode": {
    "name": "ipython",
    "version": 2
   },
   "file_extension": ".py",
   "mimetype": "text/x-python",
   "name": "python",
   "nbconvert_exporter": "python",
   "pygments_lexer": "ipython2",
   "version": "2.7.12"
  },
  "toc": {
   "toc_cell": false,
   "toc_number_sections": false,
   "toc_threshold": 6,
   "toc_window_display": false
  }
 },
 "nbformat": 4,
 "nbformat_minor": 0
}
